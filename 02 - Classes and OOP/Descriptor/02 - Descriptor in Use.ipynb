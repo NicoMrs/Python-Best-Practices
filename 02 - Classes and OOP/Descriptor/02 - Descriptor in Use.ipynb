{
 "cells": [
  {
   "cell_type": "markdown",
   "id": "1f43041f-8a40-4a29-9ad8-0ad9972cb25d",
   "metadata": {},
   "source": [
    "# Descriptor In Use\n",
    "\n",
    "- Create a n dimension Point class\n",
    "- Create a Polygon class that contains a sequence point objects \n"
   ]
  },
  {
   "cell_type": "markdown",
   "id": "4445f3ed-15bc-4f02-9bf3-04126067fa56",
   "metadata": {},
   "source": [
    "### a. N dimension point class"
   ]
  },
  {
   "cell_type": "code",
   "execution_count": 1,
   "id": "41199b82-1960-4dba-a67e-15af9e5e8d42",
   "metadata": {},
   "outputs": [],
   "source": [
    "class Point:\n",
    "\n",
    "    def __init__(self, *xi):\n",
    "        self.xi = list(xi)\n",
    "\n",
    "    def __repr__(self):\n",
    "        cls_name = type(self).__name__\n",
    "        coord = ', '.join(f\"x{i}={x}\" for i, x in enumerate(self.xi))\n",
    "        return f\"{cls_name}({coord})\"\n",
    "\n",
    "    def __iter__(self):\n",
    "        return (x for x in self.xi)\n",
    "    \n",
    "    def __eq__(self, other):\n",
    "        if not isinstance(other, type(self)):\n",
    "            raise TypeError(f\"{other} must be of type {type(self).__name__}\")\n",
    "        if self.dimension != other.dimension:\n",
    "            raise ValueError(f\"Incorrect dimension: dim(p1)={len(self.xi)} != dim(p2)={len(other.xi)}\")\n",
    "        return self.xi == other.xi\n",
    "\n",
    "    def __hash__(self):\n",
    "        return hash(tuple(self.xi))\n",
    "\n",
    "    @property\n",
    "    def dimension(self):\n",
    "        return len(self.xi)\n"
   ]
  },
  {
   "cell_type": "code",
   "execution_count": 2,
   "id": "9aa18fd0-a0d8-4999-9a1e-f0fa3c5d4147",
   "metadata": {},
   "outputs": [
    {
     "data": {
      "text/plain": [
       "Point(x0=0, x1=1, x2=2, x3=8, x4=4)"
      ]
     },
     "execution_count": 2,
     "metadata": {},
     "output_type": "execute_result"
    }
   ],
   "source": [
    "p1 = Point(0,1,2,8,4)\n",
    "p1"
   ]
  },
  {
   "cell_type": "code",
   "execution_count": 3,
   "id": "08b44ff0-163c-49f5-9d1f-07d689efd6f3",
   "metadata": {},
   "outputs": [
    {
     "data": {
      "text/plain": [
       "Point(x0=1, x1=2, x2=8, x3=4)"
      ]
     },
     "execution_count": 3,
     "metadata": {},
     "output_type": "execute_result"
    }
   ],
   "source": [
    "p2 = Point(1,2,8,4)\n",
    "p2"
   ]
  },
  {
   "cell_type": "code",
   "execution_count": 4,
   "id": "2306dafb-24d3-40a4-8519-b3ddc89e04f2",
   "metadata": {},
   "outputs": [
    {
     "name": "stdout",
     "output_type": "stream",
     "text": [
      "Incorrect dimension: dim(p1)=5 != dim(p2)=4\n"
     ]
    }
   ],
   "source": [
    "try:\n",
    "    p1 == p2\n",
    "except ValueError as err:\n",
    "    print(err)"
   ]
  },
  {
   "cell_type": "markdown",
   "id": "06caba36-d303-42e3-9072-0eacf02d9ea9",
   "metadata": {},
   "source": [
    "### b. Polygon"
   ]
  },
  {
   "cell_type": "code",
   "execution_count": 5,
   "id": "66031ec5-c893-4794-b002-165e45ea0eef",
   "metadata": {},
   "outputs": [],
   "source": [
    "class PointSequence:\n",
    "\n",
    "    def __init__(self, min_length=None, max_length=None):\n",
    "        self.min_length = min_length\n",
    "        self.max_length = max_length\n",
    "    \n",
    "    def __set_name__(self, instance, name):\n",
    "        self.name = name\n",
    "\n",
    "    def __get__(self, instance, owner):\n",
    "        if instance is None:\n",
    "            return self\n",
    "        return instance.__dict__[self.name]\n",
    "\n",
    "    def __set__(self, instance, value):\n",
    "        for element in value:\n",
    "            if not isinstance(element, Point):\n",
    "                raise TypeError(f\"{element} must be of type Point.\")\n",
    "            if value.count(element) > 1:\n",
    "                raise ValueError(f\"{element} already in point list.\")\n",
    "\n",
    "        if self.min_length is not None and len(value) < self.min_length:\n",
    "            raise ValueError(f\"Below min length of {self.min_length}\")\n",
    "        if self.max_length is not None and len(value) > self.max_length:\n",
    "            raise ValueError(f\"Above max length of {self.max_length}\")\n",
    "        instance.__dict__[self.name] = list(value)"
   ]
  },
  {
   "cell_type": "code",
   "execution_count": 6,
   "id": "dc0152f8-0d4c-4051-8c89-38c09c05ada3",
   "metadata": {},
   "outputs": [],
   "source": [
    "class Polygon:\n",
    "\n",
    "    vertices = PointSequence(min_length=2, max_length=None)\n",
    "\n",
    "    def __init__(self, *points):\n",
    "        self.vertices = points\n",
    "    \n",
    "    def __repr__(self):\n",
    "        cls_name = type(self).__name__\n",
    "        return f\"{cls_name}(n={len(self)}, dim={self.dimension})\"\n",
    "\n",
    "    def __len__(self):\n",
    "        return len(self.vertices)\n",
    "\n",
    "    def __contains__(self, point):\n",
    "        return point in self.vertices\n",
    "    \n",
    "    @property\n",
    "    def dimension(self):\n",
    "        return self.vertices[0].dimension\n",
    "    \n",
    "    def append(self, point):\n",
    "        if not isinstance(point, Point):\n",
    "            raise TypeError(\"Cannot append. Must be a Point object.\")\n",
    "        max_length = type(self).vertices.max_length\n",
    "        if len(self.vertices) == max_length:\n",
    "            raise ValueError(\"Cannot append element, max length reached.\")\n",
    "        self.vertices.append(point)\n"
   ]
  },
  {
   "cell_type": "code",
   "execution_count": 7,
   "id": "7e79f66c-05e9-41bd-a3e8-3f06dd221ef9",
   "metadata": {},
   "outputs": [
    {
     "name": "stdout",
     "output_type": "stream",
     "text": [
      "Point(x0=1, x1=2) already in point list.\n"
     ]
    }
   ],
   "source": [
    "try:\n",
    "    p = Polygon(Point(1,2), Point(1,2))\n",
    "except ValueError as err:\n",
    "    print(err)"
   ]
  },
  {
   "cell_type": "code",
   "execution_count": 8,
   "id": "4bff6c4c-3f37-4910-b407-6a89ee7d5248",
   "metadata": {},
   "outputs": [
    {
     "name": "stdout",
     "output_type": "stream",
     "text": [
      "58 must be of type Point\n"
     ]
    }
   ],
   "source": [
    "try:\n",
    "    p = Polygon(Point(1,2), Point(4,2), 58)\n",
    "except TypeError as err:\n",
    "    print(err)"
   ]
  },
  {
   "cell_type": "code",
   "execution_count": 9,
   "id": "94b2b22c-daea-4af1-9aaf-e821b1de2551",
   "metadata": {},
   "outputs": [
    {
     "name": "stdout",
     "output_type": "stream",
     "text": [
      "Incorrect dimension: dim(p1)=3 != dim(p2)=2\n"
     ]
    }
   ],
   "source": [
    "try:\n",
    "    p = Polygon(Point(1,2), Point(4,2), Point(4,5,3))\n",
    "except ValueError as err:\n",
    "    print(err)"
   ]
  },
  {
   "cell_type": "code",
   "execution_count": 10,
   "id": "4eefaf42-5147-495d-bbd4-97d22c7b9556",
   "metadata": {},
   "outputs": [
    {
     "data": {
      "text/plain": [
       "Polygon(n=2, dim=2)"
      ]
     },
     "execution_count": 10,
     "metadata": {},
     "output_type": "execute_result"
    }
   ],
   "source": [
    "p =  Polygon(Point(2,2), Point(1,2))\n",
    "p"
   ]
  },
  {
   "cell_type": "code",
   "execution_count": 11,
   "id": "11f3c9b5-0a95-4893-afd2-b8277ce6b77b",
   "metadata": {},
   "outputs": [
    {
     "name": "stdout",
     "output_type": "stream",
     "text": [
      "Cannot append. Must be a Point object.\n"
     ]
    }
   ],
   "source": [
    "try:\n",
    "    p.append(5)\n",
    "except TypeError as err:\n",
    "    print(err)"
   ]
  },
  {
   "cell_type": "code",
   "execution_count": 12,
   "id": "db8159cc-fb83-498c-94a4-31af1568d22a",
   "metadata": {},
   "outputs": [
    {
     "data": {
      "text/plain": [
       "Polygon(n=3, dim=2)"
      ]
     },
     "execution_count": 12,
     "metadata": {},
     "output_type": "execute_result"
    }
   ],
   "source": [
    "p.append(Point(1,2))\n",
    "p"
   ]
  },
  {
   "cell_type": "markdown",
   "id": "113b2c94-256a-4935-9d85-0e58fa30088d",
   "metadata": {},
   "source": [
    "### c. Subclass Polygon"
   ]
  },
  {
   "cell_type": "code",
   "execution_count": 13,
   "id": "8a36c8cf-13c5-4e09-9546-dd7de10cb90d",
   "metadata": {},
   "outputs": [],
   "source": [
    "class Triangle(Polygon):\n",
    "    vertices = PointSequence(min_length=3, max_length=3)"
   ]
  },
  {
   "cell_type": "code",
   "execution_count": 14,
   "id": "4bbab4e5-36fe-4ffc-b8e5-dcdc6286ecf8",
   "metadata": {},
   "outputs": [
    {
     "name": "stdout",
     "output_type": "stream",
     "text": [
      "Above max length of 3\n"
     ]
    }
   ],
   "source": [
    "try:\n",
    "    t = Triangle(Point(1,1), Point(1,2), Point(3,1), Point(4,1))\n",
    "except ValueError as err:\n",
    "    print(err)"
   ]
  },
  {
   "cell_type": "code",
   "execution_count": 15,
   "id": "ac6340d4-562e-4908-8dd5-6d25f0199e50",
   "metadata": {},
   "outputs": [
    {
     "data": {
      "text/plain": [
       "Triangle(n=3, dim=2)"
      ]
     },
     "execution_count": 15,
     "metadata": {},
     "output_type": "execute_result"
    }
   ],
   "source": [
    "t = Triangle(Point(1,1), Point(1,2), Point(3,1))\n",
    "t"
   ]
  },
  {
   "cell_type": "code",
   "execution_count": 16,
   "id": "ce5a1a6e-4a71-4f88-9c58-cb785b4a1d9c",
   "metadata": {},
   "outputs": [],
   "source": [
    "class Rectangle(Polygon):\n",
    "    vertices = PointSequence(min_length=4, max_length=4)"
   ]
  },
  {
   "cell_type": "code",
   "execution_count": 17,
   "id": "e8e863e1-57ac-4c16-bebe-d1b766632a62",
   "metadata": {},
   "outputs": [
    {
     "data": {
      "text/plain": [
       "Rectangle(n=4, dim=2)"
      ]
     },
     "execution_count": 17,
     "metadata": {},
     "output_type": "execute_result"
    }
   ],
   "source": [
    "r = Rectangle(Point(1,1), Point(1,2), Point(3,1), Point(4,1))\n",
    "r"
   ]
  },
  {
   "cell_type": "code",
   "execution_count": null,
   "id": "b4fdc78a-6d4d-40a5-84fe-63f63c1c2fc2",
   "metadata": {},
   "outputs": [],
   "source": []
  }
 ],
 "metadata": {
  "kernelspec": {
   "display_name": "Python 3 (ipykernel)",
   "language": "python",
   "name": "python3"
  },
  "language_info": {
   "codemirror_mode": {
    "name": "ipython",
    "version": 3
   },
   "file_extension": ".py",
   "mimetype": "text/x-python",
   "name": "python",
   "nbconvert_exporter": "python",
   "pygments_lexer": "ipython3",
   "version": "3.12.7"
  }
 },
 "nbformat": 4,
 "nbformat_minor": 5
}
