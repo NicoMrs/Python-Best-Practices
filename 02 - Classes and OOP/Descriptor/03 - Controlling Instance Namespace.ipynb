{
 "cells": [
  {
   "cell_type": "markdown",
   "id": "825b0783-caad-4997-bda8-01dbc4ec7276",
   "metadata": {},
   "source": [
    "# Descriptor to control namespace instance\n",
    "\n",
    "Descriptors give a handle on the instance namespace which can be of great use. Let's say we want to store computotionally expensive calulation data based on instance parameters which are set at instantiation and we want to clean them if parameters are changed. A descriptor can solve that problem."
   ]
  },
  {
   "cell_type": "code",
   "execution_count": 1,
   "id": "3288923c-3f91-4bdc-853d-2fffd61ffe6a",
   "metadata": {},
   "outputs": [],
   "source": [
    "import numpy as np\n",
    "import matplotlib.pyplot as plt"
   ]
  },
  {
   "cell_type": "code",
   "execution_count": 2,
   "id": "b297df0d-d029-4ba4-9e83-bdcf98759c9f",
   "metadata": {},
   "outputs": [],
   "source": [
    "class CleanNameSpace:\n",
    "\n",
    "    def __init__(self, *paramters_to_clean):\n",
    "        self.parameters = paramters_to_clean\n",
    "    \n",
    "    def __set_name__(self, owner, name):\n",
    "        self.name = name\n",
    "    \n",
    "    def __get__(self, instance, owner):\n",
    "        if instance is None:\n",
    "            return self\n",
    "        return instance.__dict__[self.name]\n",
    "\n",
    "    def __set__(self, instance, value):\n",
    "        instance.__dict__[self.name] = value\n",
    "        self.check_parameter_count(instance)\n",
    "\n",
    "    def check_parameter_count(self, instance):\n",
    "        \"\"\" check parameter count and reset attribute when count > 1 \"\"\"\n",
    "        \n",
    "        if not hasattr(instance, f\"counter_{self.name}\"):\n",
    "            instance.__dict__[f\"counter_{self.name}\"] = 1\n",
    "\n",
    "        if instance.__dict__[f\"counter_{self.name}\"] > 1:\n",
    "            for param in self.parameters:\n",
    "                instance.__dict__[param] = np.array([])\n",
    "            print(f\"Parameter {self.name!r} have been changed, hence, {self.parameters} have been reset.\")\n",
    "        \n",
    "        instance.__dict__[f\"counter_{self.name}\"] += 1"
   ]
  },
  {
   "cell_type": "code",
   "execution_count": 3,
   "id": "4ebefd7a-5716-48ff-a634-10d4cb5aafea",
   "metadata": {},
   "outputs": [],
   "source": [
    "class Analyzer:\n",
    "\n",
    "    n = CleanNameSpace('_theta_distribution', '_r_distribution')\n",
    "    mu_r = CleanNameSpace('_theta_distribution', '_r_distribution')\n",
    "    sigma_r = CleanNameSpace('_theta_distribution', '_r_distribution')\n",
    "    \n",
    "    def __init__(self, n, mu_r, sigma_r):\n",
    "        self.n = n\n",
    "        self.mu_r = mu_r\n",
    "        self.sigma_r = sigma_r\n",
    "\n",
    "        # computationnaly expensive data \n",
    "        self._theta_distribution = np.array([])\n",
    "        self._r_distribution = np.array([])\n",
    "\n",
    "    @property\n",
    "    def distribution(self):\n",
    "        if self._theta_distribution.shape[0] == 0 or self._r_distribution.shape[0] == 0:\n",
    "            self._r_distribution = np.random.normal(self.mu_r, self.sigma_r, self.n)\n",
    "            self._theta_distribution = np.random.normal(0, 2*np.pi, self.n)\n",
    "            print(\"... COMPUTE DATA ...\")\n",
    "        else:\n",
    "            print(\"... ACCESSING DATA ...\")\n",
    "            \n",
    "        return self._r_distribution, self._theta_distribution\n",
    "\n",
    "    def plot(self):\n",
    "        r, theta = self.distribution\n",
    "        plt.figure(figsize=(4,4))\n",
    "        plt.scatter(r*np.cos(theta), r*np.sin(theta))\n",
    "        plt.xlabel(\"x\")\n",
    "        plt.ylabel(\"y\")\n",
    "        plt.title(\"Mass distribution\");\n",
    "\n",
    "    def __repr__(self):\n",
    "        cls_name = type(self).__name__\n",
    "        return f\"{cls_name}(n={self.n}, mu_r={self.mu_r}, sigma_r={self.sigma_r})\""
   ]
  },
  {
   "cell_type": "markdown",
   "id": "05c3bc14-2249-4110-96db-59f31ddaa29c",
   "metadata": {},
   "source": [
    "### Example"
   ]
  },
  {
   "cell_type": "code",
   "execution_count": 4,
   "id": "09871586-a781-4031-8901-b15e3898d46f",
   "metadata": {},
   "outputs": [
    {
     "data": {
      "text/plain": [
       "Analyzer(n=1500, mu_r=10, sigma_r=0.2)"
      ]
     },
     "execution_count": 4,
     "metadata": {},
     "output_type": "execute_result"
    }
   ],
   "source": [
    "a = Analyzer(1500, 10, 0.2)\n",
    "a"
   ]
  },
  {
   "cell_type": "code",
   "execution_count": 5,
   "id": "4c6da966-faba-416f-b59e-a3d5234bcdab",
   "metadata": {},
   "outputs": [
    {
     "name": "stdout",
     "output_type": "stream",
     "text": [
      "... COMPUTE DATA ...\n"
     ]
    },
    {
     "data": {
      "text/plain": [
       "(array([10.10559751,  9.75782503, 10.31785804, ..., 10.17931329,\n",
       "        10.17169492,  9.70445936]),\n",
       " array([ 5.70473513, -4.49296527,  0.1220749 , ..., -3.13788399,\n",
       "         1.28498809,  5.48480896]))"
      ]
     },
     "execution_count": 5,
     "metadata": {},
     "output_type": "execute_result"
    }
   ],
   "source": [
    "a.distribution"
   ]
  },
  {
   "cell_type": "code",
   "execution_count": 6,
   "id": "90ada156-7b6e-4629-bdc6-3162ecf0e4af",
   "metadata": {},
   "outputs": [],
   "source": [
    "# on the second call data are stored hence can be accessed straghtway without any calculations"
   ]
  },
  {
   "cell_type": "code",
   "execution_count": 7,
   "id": "a0c0f5c6-710d-4261-a3eb-c6a6a218823c",
   "metadata": {},
   "outputs": [
    {
     "name": "stdout",
     "output_type": "stream",
     "text": [
      "... ACCESSING DATA ...\n"
     ]
    },
    {
     "data": {
      "text/plain": [
       "(array([10.10559751,  9.75782503, 10.31785804, ..., 10.17931329,\n",
       "        10.17169492,  9.70445936]),\n",
       " array([ 5.70473513, -4.49296527,  0.1220749 , ..., -3.13788399,\n",
       "         1.28498809,  5.48480896]))"
      ]
     },
     "execution_count": 7,
     "metadata": {},
     "output_type": "execute_result"
    }
   ],
   "source": [
    "a.distribution"
   ]
  },
  {
   "cell_type": "code",
   "execution_count": 8,
   "id": "bd3902b1-cf24-4e8a-acc4-2088dbad6e90",
   "metadata": {},
   "outputs": [
    {
     "name": "stdout",
     "output_type": "stream",
     "text": [
      "Parameter 'n' have been changed, hence, ('_theta_distribution', '_r_distribution') have been reset.\n"
     ]
    }
   ],
   "source": [
    "a.n = 20"
   ]
  },
  {
   "cell_type": "code",
   "execution_count": 9,
   "id": "d0afb059-edaa-4245-9518-5df5a8d5bfdd",
   "metadata": {},
   "outputs": [
    {
     "name": "stdout",
     "output_type": "stream",
     "text": [
      "... COMPUTE DATA ...\n"
     ]
    },
    {
     "data": {
      "text/plain": [
       "(array([ 9.910249  ,  9.70443132, 10.28431057,  9.74410424,  9.74320361,\n",
       "        10.04057917, 10.11129091, 10.42266131,  9.99927211, 10.2991532 ,\n",
       "        10.13949372,  9.89346301, 10.21312145, 10.0004132 , 10.22278383,\n",
       "        10.5142099 , 10.05396083,  9.9985117 ,  9.68569831,  9.91831024]),\n",
       " array([-9.99024474e-01,  4.54837047e+00, -2.42506792e+00,  5.00758883e+00,\n",
       "        -6.95589873e+00,  4.51524599e+00,  4.04673464e+00, -3.73529448e+00,\n",
       "        -7.67063067e-01,  4.34269506e+00, -5.05294722e+00,  7.99220651e-01,\n",
       "        -6.98884351e+00, -1.27942669e+01,  3.06975048e+00, -1.99993019e+00,\n",
       "        -2.23724913e+00,  1.08428687e-02,  2.93658159e+00, -1.93269166e+00]))"
      ]
     },
     "execution_count": 9,
     "metadata": {},
     "output_type": "execute_result"
    }
   ],
   "source": [
    "a.distribution"
   ]
  },
  {
   "cell_type": "code",
   "execution_count": 10,
   "id": "4bd04a13-ff09-41ca-8681-33998fa5841e",
   "metadata": {},
   "outputs": [
    {
     "name": "stdout",
     "output_type": "stream",
     "text": [
      "Parameter 'n' have been changed, hence, ('_theta_distribution', '_r_distribution') have been reset.\n",
      "Parameter 'mu_r' have been changed, hence, ('_theta_distribution', '_r_distribution') have been reset.\n",
      "Parameter 'sigma_r' have been changed, hence, ('_theta_distribution', '_r_distribution') have been reset.\n",
      "... COMPUTE DATA ...\n"
     ]
    },
    {
     "data": {
      "image/png": "[encoded data removed]",
      "text/plain": [
       "<Figure size 400x400 with 1 Axes>"
      ]
     },
     "metadata": {},
     "output_type": "display_data"
    }
   ],
   "source": [
    "a.n=1500\n",
    "a.mu_r=15\n",
    "a.sigma_r=0.5\n",
    "a.plot()"
   ]
  },
  {
   "cell_type": "code",
   "execution_count": null,
   "id": "cae07b0d-c91d-4a33-98dc-81743263e95a",
   "metadata": {},
   "outputs": [],
   "source": []
  }
 ],
 "metadata": {
  "kernelspec": {
   "display_name": "Python 3 (ipykernel)",
   "language": "python",
   "name": "python3"
  },
  "language_info": {
   "codemirror_mode": {
    "name": "ipython",
    "version": 3
   },
   "file_extension": ".py",
   "mimetype": "text/x-python",
   "name": "python",
   "nbconvert_exporter": "python",
   "pygments_lexer": "ipython3",
   "version": "3.12.7"
  }
 },
 "nbformat": 4,
 "nbformat_minor": 5
}
