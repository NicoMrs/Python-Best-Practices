{
 "cells": [
  {
   "cell_type": "markdown",
   "id": "465e2c15-58cf-43fc-8d8a-2d588231c7f2",
   "metadata": {},
   "source": [
    "## Build Common Generators\n",
    "Build common built-ins generators or from the itertool librairy"
   ]
  },
  {
   "cell_type": "code",
   "execution_count": 61,
   "id": "0044682e-9d42-439f-82e7-16530fa3aac8",
   "metadata": {},
   "outputs": [],
   "source": [
    "import itertools"
   ]
  },
  {
   "cell_type": "markdown",
   "id": "21b0fd7c-f7da-47e6-9126-07fc8b23c9e2",
   "metadata": {},
   "source": [
    "### 1. Filtering generators"
   ]
  },
  {
   "cell_type": "markdown",
   "id": "8f41e95b-277b-45df-8ad9-55e5eef99387",
   "metadata": {},
   "source": [
    "#### 1.a. filter"
   ]
  },
  {
   "cell_type": "code",
   "execution_count": 65,
   "id": "439fdac8-bd75-4d3d-905a-e6e82c722673",
   "metadata": {},
   "outputs": [],
   "source": [
    "def vowels(c):\n",
    "    return c.lower() in 'aeiou'"
   ]
  },
  {
   "cell_type": "code",
   "execution_count": 66,
   "id": "a57dab5a-bb58-498a-9e64-d160786475ab",
   "metadata": {},
   "outputs": [
    {
     "data": {
      "text/plain": [
       "['A', 'a', 'a']"
      ]
     },
     "execution_count": 66,
     "metadata": {},
     "output_type": "execute_result"
    }
   ],
   "source": [
    "list(filter(vowels, 'Aardvark'))"
   ]
  },
  {
   "cell_type": "code",
   "execution_count": 67,
   "id": "129fb316-a5ce-4857-83d4-ed8eb488c513",
   "metadata": {},
   "outputs": [],
   "source": [
    "def _filter(func, iterable):\n",
    "    index = 0\n",
    "    while index < len(iterable):\n",
    "        res = func(iterable[index])\n",
    "        if res:\n",
    "            yield iterable[index]\n",
    "        index += 1"
   ]
  },
  {
   "cell_type": "code",
   "execution_count": 71,
   "id": "a38abbab-139e-44da-9f6e-f648a47079e1",
   "metadata": {},
   "outputs": [
    {
     "data": {
      "text/plain": [
       "['A', 'a', 'a']"
      ]
     },
     "execution_count": 71,
     "metadata": {},
     "output_type": "execute_result"
    }
   ],
   "source": [
    "list(_filter(vowels, 'Aardvark'))"
   ]
  },
  {
   "cell_type": "markdown",
   "id": "a2dafff0-0aa5-4156-b05a-552d45431b1e",
   "metadata": {},
   "source": [
    "#### 2.a. dropwhile"
   ]
  },
  {
   "cell_type": "code",
   "execution_count": 76,
   "id": "28ce8cf0-24e8-4420-8be6-32d9d0e62bd7",
   "metadata": {},
   "outputs": [
    {
     "data": {
      "text/plain": [
       "['r', 'd', 'v', 'a', 'r', 'k']"
      ]
     },
     "execution_count": 76,
     "metadata": {},
     "output_type": "execute_result"
    }
   ],
   "source": [
    "list(itertools.dropwhile(vowels, 'Aardvark'))"
   ]
  },
  {
   "cell_type": "code",
   "execution_count": 86,
   "id": "3ff8fb64-1473-4973-aa88-8615385cb63a",
   "metadata": {},
   "outputs": [],
   "source": [
    "def _dropwhile(func, iterable):\n",
    "    i = 0\n",
    "    flag = False\n",
    "    while i < len(iterable):\n",
    "        if flag:\n",
    "            yield iterable[i]\n",
    "        i += 1"
   ]
  },
  {
   "cell_type": "code",
   "execution_count": null,
   "id": "c84b8ba2-e619-4054-add0-31fe58817765",
   "metadata": {},
   "outputs": [],
   "source": [
    "list(_dropwhile(vowels, 'Aardvark'))"
   ]
  },
  {
   "cell_type": "code",
   "execution_count": null,
   "id": "f19279a5-30cd-499a-8a78-9c3ca5381750",
   "metadata": {},
   "outputs": [],
   "source": []
  }
 ],
 "metadata": {
  "kernelspec": {
   "display_name": "Python [conda env:MLenv]",
   "language": "python",
   "name": "conda-env-MLenv-py"
  },
  "language_info": {
   "codemirror_mode": {
    "name": "ipython",
    "version": 3
   },
   "file_extension": ".py",
   "mimetype": "text/x-python",
   "name": "python",
   "nbconvert_exporter": "python",
   "pygments_lexer": "ipython3",
   "version": "3.9.21"
  }
 },
 "nbformat": 4,
 "nbformat_minor": 5
}
