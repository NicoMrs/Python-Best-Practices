{
 "cells": [
  {
   "cell_type": "markdown",
   "id": "1b527e93",
   "metadata": {},
   "source": [
    "# I. Store Data in to descriptor\n",
    "\n",
    "One way of using descriptor is to store data directly in its instance namespace."
   ]
  },
  {
   "cell_type": "markdown",
   "id": "904ee9b3",
   "metadata": {},
   "source": [
    "## a. common caveat\n",
    "\n",
    "Hard reference in instance namespace whichi prevent the object from being deleted by the garbage collector."
   ]
  },
  {
   "cell_type": "code",
   "execution_count": 1,
   "id": "5308a587",
   "metadata": {},
   "outputs": [],
   "source": [
    "class IntegerValue:\n",
    "    \n",
    "    def __init__(self):\n",
    "        self.value = {}\n",
    "    \n",
    "    def __get__(self, instance, owner):\n",
    "        if instance is None:\n",
    "            return self\n",
    "        \n",
    "        self.value[instance]\n",
    "    \n",
    "    def __set__(self, instance, value):\n",
    "        self.value[instance] = int(value)"
   ]
  },
  {
   "cell_type": "code",
   "execution_count": 2,
   "id": "94f82a57",
   "metadata": {},
   "outputs": [],
   "source": [
    "class Person:\n",
    "    \n",
    "    height = IntegerValue()\n",
    "    \n",
    "    def __init__(self, name):\n",
    "        self.name = name\n",
    "        \n",
    "    def __del__(self):\n",
    "        print(f\"{self} is deleted ...\")\n",
    "        del self\n",
    "    \n",
    "    def __repr__(self):\n",
    "        return f\"{type(self).__name__}(name={self.name!r})\""
   ]
  },
  {
   "cell_type": "code",
   "execution_count": 3,
   "id": "ffb26f33",
   "metadata": {},
   "outputs": [],
   "source": [
    "p1 = Person('Alex')\n",
    "p2 = Person('Johnny')"
   ]
  },
  {
   "cell_type": "code",
   "execution_count": 4,
   "id": "cc7d9832",
   "metadata": {},
   "outputs": [
    {
     "name": "stdout",
     "output_type": "stream",
     "text": [
      "Person(name='Alex') is deleted ...\n"
     ]
    }
   ],
   "source": [
    "del p1"
   ]
  },
  {
   "cell_type": "code",
   "execution_count": 5,
   "id": "83caa45a",
   "metadata": {},
   "outputs": [],
   "source": [
    "p1 = Person('Alex')"
   ]
  },
  {
   "cell_type": "code",
   "execution_count": 6,
   "id": "0c87fd68",
   "metadata": {},
   "outputs": [],
   "source": [
    "p1.height = 175.89\n",
    "p2.height = 180.45"
   ]
  },
  {
   "cell_type": "code",
   "execution_count": 7,
   "id": "9cdf2c5c",
   "metadata": {},
   "outputs": [
    {
     "data": {
      "text/plain": [
       "{Person(name='Alex'): 175, Person(name='Johnny'): 180}"
      ]
     },
     "execution_count": 7,
     "metadata": {},
     "output_type": "execute_result"
    }
   ],
   "source": [
    "Person.height.value"
   ]
  },
  {
   "cell_type": "code",
   "execution_count": 8,
   "id": "725d551f",
   "metadata": {},
   "outputs": [],
   "source": [
    "del p1"
   ]
  },
  {
   "cell_type": "code",
   "execution_count": 9,
   "id": "6b337a71",
   "metadata": {},
   "outputs": [
    {
     "data": {
      "text/plain": [
       "{Person(name='Alex'): 175, Person(name='Johnny'): 180}"
      ]
     },
     "execution_count": 9,
     "metadata": {},
     "output_type": "execute_result"
    }
   ],
   "source": [
    "Person.height.value # p1 not deleted still store in instance dictionary"
   ]
  },
  {
   "cell_type": "markdown",
   "id": "5c7bdebc",
   "metadata": {},
   "source": [
    "### b. If object is hashable - use WeakKeyDict"
   ]
  },
  {
   "cell_type": "code",
   "execution_count": 10,
   "id": "36e4fd24",
   "metadata": {},
   "outputs": [],
   "source": [
    "import weakref"
   ]
  },
  {
   "cell_type": "code",
   "execution_count": 11,
   "id": "9a53f23f",
   "metadata": {},
   "outputs": [],
   "source": [
    "class IntegerValue:\n",
    "    \n",
    "    def __init__(self):\n",
    "        self.value = weakref.WeakKeyDictionary()\n",
    "    \n",
    "    def __get__(self, instance, owner):\n",
    "        if instance is None:\n",
    "            return self\n",
    "        \n",
    "        self.value[instance]\n",
    "    \n",
    "    def __set__(self, instance, value):\n",
    "        self.value[instance] = int(value)"
   ]
  },
  {
   "cell_type": "code",
   "execution_count": 12,
   "id": "bf83bd32",
   "metadata": {},
   "outputs": [],
   "source": [
    "class Person2:\n",
    "    \n",
    "    height = IntegerValue()\n",
    "    \n",
    "    def __init__(self, name):\n",
    "        self.name = name\n",
    "        \n",
    "    def __del__(self):\n",
    "        print(f\"{self} is deleted ...\")\n",
    "        del self\n",
    "    \n",
    "    def __repr__(self):\n",
    "        return f\"{type(self).__name__}(name={self.name!r})\""
   ]
  },
  {
   "cell_type": "code",
   "execution_count": 13,
   "id": "441558db",
   "metadata": {},
   "outputs": [],
   "source": [
    "p1 = Person2('Alex 2')\n",
    "p2 = Person2('Johnny 2')"
   ]
  },
  {
   "cell_type": "code",
   "execution_count": 14,
   "id": "736fcd8d",
   "metadata": {},
   "outputs": [],
   "source": [
    "# d = weakref.WeakKeyDictionary()\n",
    "# d[p1] = 'a'\n",
    "# d.data"
   ]
  },
  {
   "cell_type": "code",
   "execution_count": 15,
   "id": "b0c10aed",
   "metadata": {},
   "outputs": [],
   "source": [
    "p1.height = 179.6\n",
    "p2.height = 185.2"
   ]
  },
  {
   "cell_type": "code",
   "execution_count": 16,
   "id": "7a258227",
   "metadata": {},
   "outputs": [
    {
     "data": {
      "text/plain": [
       "{<weakref at 0x000001C32B9AC220; to 'Person2' at 0x000001C32BB3C220>: 179,\n",
       " <weakref at 0x000001C32BB3EBD0; to 'Person2' at 0x000001C32BB3C880>: 185}"
      ]
     },
     "execution_count": 16,
     "metadata": {},
     "output_type": "execute_result"
    }
   ],
   "source": [
    "Person2.height.value.data"
   ]
  },
  {
   "cell_type": "code",
   "execution_count": 17,
   "id": "86c1f31c",
   "metadata": {},
   "outputs": [
    {
     "name": "stdout",
     "output_type": "stream",
     "text": [
      "Person2(name='Alex 2') is deleted ...\n"
     ]
    }
   ],
   "source": [
    "del p1"
   ]
  },
  {
   "cell_type": "code",
   "execution_count": 18,
   "id": "5446ffa2",
   "metadata": {},
   "outputs": [
    {
     "data": {
      "text/plain": [
       "{<weakref at 0x000001C32BB3EBD0; to 'Person2' at 0x000001C32BB3C880>: 185}"
      ]
     },
     "execution_count": 18,
     "metadata": {},
     "output_type": "execute_result"
    }
   ],
   "source": [
    "Person2.height.value.data"
   ]
  },
  {
   "cell_type": "markdown",
   "id": "04eee51a",
   "metadata": {},
   "source": [
    "### c. If object is not hashable - cannot use WeakKeyDict\n",
    "\n",
    "In that case we can use the id of the object. But it is of most importance to clear the instance dictionary once the object is deleted because a similar object can reuse the same id."
   ]
  },
  {
   "cell_type": "code",
   "execution_count": 19,
   "id": "31ab8989",
   "metadata": {},
   "outputs": [],
   "source": [
    "class IntegerValue:\n",
    "    \n",
    "    def __init__(self):\n",
    "        self.value = {}\n",
    "    \n",
    "    def __get__(self, instance, owner):\n",
    "        if instance is None:\n",
    "            return self\n",
    "        \n",
    "        self.value[id(instance)] = int(value)\n",
    "    \n",
    "    def __set__(self, instance, value):\n",
    "        \n",
    "        # once object is deleted, its weakref is as well after the callback\n",
    "        self.value[id(instance)] = (weakref.ref(instance, self._remove_object), int(value))\n",
    "        \n",
    "    def _remove_object(self, weak_ref): # the call back take its weak ref as argument\n",
    "        print('weakref call back')        \n",
    "        \n",
    "        for key, val in self.value.items():\n",
    "            if val[0] is weak_ref:\n",
    "                del self.value[key]\n",
    "                break\n",
    "        pass"
   ]
  },
  {
   "cell_type": "code",
   "execution_count": 20,
   "id": "26eba1c1",
   "metadata": {},
   "outputs": [],
   "source": [
    "class NotHashablePerson:\n",
    "    \n",
    "    height = IntegerValue()\n",
    "    \n",
    "    def __init__(self, name):\n",
    "        self.name = name\n",
    "        \n",
    "    def __eq__(self, other):\n",
    "        return isinstance(other, type(self)) and self.name == other.namme\n",
    "        \n",
    "    def __del__(self):\n",
    "        print(f\"{self} is deleted ...\")\n",
    "        del self\n",
    "    \n",
    "    def __repr__(self):\n",
    "        return f\"{type(self).__name__}(name={self.name!r})\""
   ]
  },
  {
   "cell_type": "code",
   "execution_count": 21,
   "id": "3d47061c",
   "metadata": {},
   "outputs": [],
   "source": [
    "not_hash_p1 = NotHashablePerson('Alex not hashable')\n",
    "not_hash_p2 = NotHashablePerson('John not hashable')"
   ]
  },
  {
   "cell_type": "code",
   "execution_count": 22,
   "id": "f69e9bdb",
   "metadata": {},
   "outputs": [],
   "source": [
    "#hash(not_hash_p1)"
   ]
  },
  {
   "cell_type": "code",
   "execution_count": 23,
   "id": "b14a3389",
   "metadata": {},
   "outputs": [],
   "source": [
    "not_hash_p1.height = 175.6\n",
    "not_hash_p2.height = 184.6"
   ]
  },
  {
   "cell_type": "code",
   "execution_count": 24,
   "id": "61e9f13f",
   "metadata": {},
   "outputs": [
    {
     "data": {
      "text/plain": [
       "{1937763501632: (<weakref at 0x000001C32BB41180; to 'NotHashablePerson' at 0x000001C32BB48640>,\n",
       "  175),\n",
       " 1937763500672: (<weakref at 0x000001C32BB49A90; to 'NotHashablePerson' at 0x000001C32BB48280>,\n",
       "  184)}"
      ]
     },
     "execution_count": 24,
     "metadata": {},
     "output_type": "execute_result"
    }
   ],
   "source": [
    "NotHashablePerson.height.value"
   ]
  },
  {
   "cell_type": "code",
   "execution_count": 25,
   "id": "098e206a",
   "metadata": {},
   "outputs": [
    {
     "name": "stdout",
     "output_type": "stream",
     "text": [
      "NotHashablePerson(name='Alex not hashable') is deleted ...\n",
      "weakref call back\n"
     ]
    }
   ],
   "source": [
    "del(not_hash_p1)"
   ]
  },
  {
   "cell_type": "code",
   "execution_count": 26,
   "id": "9fdde383",
   "metadata": {},
   "outputs": [
    {
     "data": {
      "text/plain": [
       "{1937763500672: (<weakref at 0x000001C32BB49A90; to 'NotHashablePerson' at 0x000001C32BB48280>,\n",
       "  184)}"
      ]
     },
     "execution_count": 26,
     "metadata": {},
     "output_type": "execute_result"
    }
   ],
   "source": [
    "NotHashablePerson.height.value"
   ]
  }
 ],
 "metadata": {
  "kernelspec": {
   "display_name": "Python 3 (ipykernel)",
   "language": "python",
   "name": "python3"
  },
  "language_info": {
   "codemirror_mode": {
    "name": "ipython",
    "version": 3
   },
   "file_extension": ".py",
   "mimetype": "text/x-python",
   "name": "python",
   "nbconvert_exporter": "python",
   "pygments_lexer": "ipython3",
   "version": "3.9.0"
  }
 },
 "nbformat": 4,
 "nbformat_minor": 5
}
