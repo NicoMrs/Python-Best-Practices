{
 "cells": [
  {
   "cell_type": "markdown",
   "id": "ed89d816-8f71-45fa-bc73-1ac5ce559017",
   "metadata": {},
   "source": [
    "### BEST PRACTICE : Use class composition instead of a complex nested internal state dictionary"
   ]
  },
  {
   "cell_type": "markdown",
   "id": "203e0be7-ab3e-4d41-8b7a-21bc2e0b9ed0",
   "metadata": {},
   "source": [
    "When building an interface it is better to implement multiple simple layers than a complex nested state dictionary. Indeed as the interface evolve, it is getting harder to access relevant data as the state dictionary keeps getting deeper. It becomes a nightmare to debug. Instead, use simple layers."
   ]
  },
  {
   "cell_type": "raw",
   "id": "eb82b4e3-9e2d-4ad5-a371-098144510e0d",
   "metadata": {},
   "source": [
    "Interface example \n",
    "\n",
    "book = Gradebook()\n",
    "albert = book.get_student('Albert Einstein')\n",
    "math = albert.get_subject('Math')\n",
    "math.report_grade(75, 0.05)\n",
    "math.report_grade(65, 0.15)\n",
    "math.report_grade(70, 0.80)\n",
    "gym = albert.get_subject('Gym')\n",
    "gym.report_grade(100, 0.40)\n",
    "gym.report_grade(85, 0.60)\n",
    "print(albert.average_grade())"
   ]
  },
  {
   "cell_type": "code",
   "execution_count": 3,
   "id": "d73be894-d82b-4749-b18c-4a6fd16deb69",
   "metadata": {},
   "outputs": [],
   "source": [
    "# grade --> subject --> student --> book"
   ]
  },
  {
   "cell_type": "code",
   "execution_count": 4,
   "id": "e7374ee1-ccd6-4c08-88c0-be31aa6e3149",
   "metadata": {},
   "outputs": [],
   "source": [
    "from collections import namedtuple\n",
    "Grade = namedtuple(\"Grade\", (\"score\", \"weight\"))"
   ]
  },
  {
   "cell_type": "code",
   "execution_count": 5,
   "id": "368bf1a0-79bc-49fa-8f8d-14a30886d21e",
   "metadata": {},
   "outputs": [
    {
     "data": {
      "text/plain": [
       "Grade(score=85, weight=0.6)"
      ]
     },
     "execution_count": 5,
     "metadata": {},
     "output_type": "execute_result"
    }
   ],
   "source": [
    "Grade(85, 0.6)"
   ]
  },
  {
   "cell_type": "code",
   "execution_count": 6,
   "id": "cf08af53-3cbe-431b-9ea2-5b04f7e5ed27",
   "metadata": {},
   "outputs": [],
   "source": [
    "from collections import defaultdict\n",
    "import reprlib\n",
    "\n",
    "# create a repr object to limit the number of arguments displayed with __repr__\n",
    "subjectRepr = reprlib.Repr()\n",
    "subjectRepr.maxlist = 3\n",
    "\n",
    "class Subject:\n",
    "    def __init__(self):\n",
    "        self._grades = []\n",
    "\n",
    "    def report_grade(self, score, weight):\n",
    "        self._grades.append(Grade(score, weight))\n",
    "\n",
    "    def __repr__(self):\n",
    "        cls_name = type(self).__name__\n",
    "        return f\"{cls_name}({subjectRepr.repr(self._grades)})\"\n",
    "\n",
    "    @property # make it a read only property\n",
    "    def average_grade(self):\n",
    "        return sum(gr.score*gr.weight for gr in self._grades)/sum(gr.weight for gr in self._grades)"
   ]
  },
  {
   "cell_type": "code",
   "execution_count": 7,
   "id": "40c594a3-c505-4d7b-9f6c-6295bf430e76",
   "metadata": {},
   "outputs": [
    {
     "data": {
      "text/plain": [
       "Subject([Grade(score=85, weight=0.25), Grade(score=98, weight=0.55), Grade(score=100, weight=0.45)])"
      ]
     },
     "execution_count": 7,
     "metadata": {},
     "output_type": "execute_result"
    }
   ],
   "source": [
    "maths = Subject()\n",
    "maths.report_grade(85,0.25)\n",
    "maths.report_grade(98,0.55)\n",
    "maths.report_grade(100,0.45)\n",
    "maths"
   ]
  },
  {
   "cell_type": "code",
   "execution_count": 8,
   "id": "f958cc38-961d-4051-97de-0d18bf7942d6",
   "metadata": {},
   "outputs": [
    {
     "data": {
      "text/plain": [
       "96.12"
      ]
     },
     "execution_count": 8,
     "metadata": {},
     "output_type": "execute_result"
    }
   ],
   "source": [
    "maths.average_grade"
   ]
  },
  {
   "cell_type": "code",
   "execution_count": 9,
   "id": "fac1c489-8087-4f83-a4b9-0455f6b69bd0",
   "metadata": {},
   "outputs": [],
   "source": [
    "class Student:\n",
    "\n",
    "    def __init__(self):\n",
    "        self._subjects = defaultdict(Subject) # return Subject object if key does not exists\n",
    "\n",
    "    def get_subject(self, name):\n",
    "        return self._subjects[name] # Instantiate Subject() if name not in dict otherise points to name value\n",
    "\n",
    "    def __repr__(self):\n",
    "        cls_name = type(self).__name__\n",
    "        return f\"{cls_name}({self._subjects})\"\n",
    "\n",
    "    @property\n",
    "    def average_grade(self):\n",
    "        return sum(subject.average_grade for subject in self._subjects.values())/len(self._subjects)"
   ]
  },
  {
   "cell_type": "code",
   "execution_count": 10,
   "id": "8d8aa6c3-1af1-43ef-9e6d-b450174a96ae",
   "metadata": {},
   "outputs": [
    {
     "data": {
      "text/plain": [
       "Student(defaultdict(<class '__main__.Subject'>, {}))"
      ]
     },
     "execution_count": 10,
     "metadata": {},
     "output_type": "execute_result"
    }
   ],
   "source": [
    "Nicolas = Student()\n",
    "Nicolas"
   ]
  },
  {
   "cell_type": "code",
   "execution_count": 11,
   "id": "f495b00b-4e13-455c-85ef-009c765de7c4",
   "metadata": {},
   "outputs": [
    {
     "data": {
      "text/plain": [
       "86.5"
      ]
     },
     "execution_count": 11,
     "metadata": {},
     "output_type": "execute_result"
    }
   ],
   "source": [
    "maths = Nicolas.get_subject('maths') # retrieve subject \n",
    "maths.report_grade(85, 0.25)\n",
    "maths.report_grade(88, 0.25)\n",
    "\n",
    "Nicolas.average_grade"
   ]
  },
  {
   "cell_type": "code",
   "execution_count": 12,
   "id": "dae4215c-e7a6-472d-a571-1c240d55c81e",
   "metadata": {},
   "outputs": [
    {
     "data": {
      "text/plain": [
       "{'_subjects': defaultdict(__main__.Subject,\n",
       "             {'maths': Subject([Grade(score=85, weight=0.25), Grade(score=88, weight=0.25)])})}"
      ]
     },
     "execution_count": 12,
     "metadata": {},
     "output_type": "execute_result"
    }
   ],
   "source": [
    "Nicolas.__dict__"
   ]
  },
  {
   "cell_type": "code",
   "execution_count": 13,
   "id": "694e26c3-e092-49eb-8c7b-93fb2b8ba546",
   "metadata": {},
   "outputs": [],
   "source": [
    "class Gradebook:\n",
    "    def __init__(self):\n",
    "        self._elements = defaultdict(Student)\n",
    "\n",
    "    def get_student(self, name):\n",
    "        return self._elements[name]"
   ]
  },
  {
   "cell_type": "code",
   "execution_count": 14,
   "id": "ea02d3f3-bee6-48b8-8ca1-47334a368bd9",
   "metadata": {},
   "outputs": [
    {
     "data": {
      "text/plain": [
       "Student(defaultdict(<class '__main__.Subject'>, {}))"
      ]
     },
     "execution_count": 14,
     "metadata": {},
     "output_type": "execute_result"
    }
   ],
   "source": [
    "book = Gradebook()\n",
    "book.get_student('Nicolas')"
   ]
  },
  {
   "cell_type": "code",
   "execution_count": 15,
   "id": "0b74bd41-8561-48c1-a1cb-64f562dca0d9",
   "metadata": {},
   "outputs": [
    {
     "name": "stdout",
     "output_type": "stream",
     "text": [
      "80.25\n"
     ]
    }
   ],
   "source": [
    "book = Gradebook()\n",
    "albert = book.get_student('Albert Einstein')\n",
    "math = albert.get_subject('Math')\n",
    "math.report_grade(75, 0.05)\n",
    "math.report_grade(65, 0.15)\n",
    "math.report_grade(70, 0.80)\n",
    "gym = albert.get_subject('Gym')\n",
    "gym.report_grade(100, 0.40)\n",
    "gym.report_grade(85, 0.60)\n",
    "print(albert.average_grade)"
   ]
  }
 ],
 "metadata": {
  "kernelspec": {
   "display_name": "Python [conda env:MLenv]",
   "language": "python",
   "name": "conda-env-MLenv-py"
  },
  "language_info": {
   "codemirror_mode": {
    "name": "ipython",
    "version": 3
   },
   "file_extension": ".py",
   "mimetype": "text/x-python",
   "name": "python",
   "nbconvert_exporter": "python",
   "pygments_lexer": "ipython3",
   "version": "3.9.21"
  }
 },
 "nbformat": 4,
 "nbformat_minor": 5
}
