{
 "cells": [
  {
   "cell_type": "markdown",
   "id": "8c27b1ae-471e-4e69-8080-9fbf14ce9275",
   "metadata": {},
   "source": [
    "# Decorator vs Class Approach\n",
    "The goal is to profile a function by keeping track of :\n",
    "- how many times it has been run\n",
    "- its total run time\n",
    "\n",
    "We'll see two approaches. The first one uses decorator. It is a functionnal approach, that is a bit cumbersome here but is in general much simpler. The second one is object oriented. It is more elegant in this case but might be a bit of an overkill for simple cases."
   ]
  },
  {
   "cell_type": "markdown",
   "id": "d7628c9a-0c24-467d-8c0c-b5e7abdec742",
   "metadata": {},
   "source": [
    "## A. Decorator approach "
   ]
  },
  {
   "cell_type": "code",
   "execution_count": 3,
   "id": "44c7c924-69a1-494e-b9dc-c4c59fbbdb99",
   "metadata": {},
   "outputs": [],
   "source": [
    "from time import perf_counter, sleep\n",
    "from random import random"
   ]
  },
  {
   "cell_type": "markdown",
   "id": "c7f400a8-288f-4925-8137-e21100f8fc15",
   "metadata": {},
   "source": [
    "#### a. broken example\n",
    "Below we use an **immutable** object to keep track of the count. It won't work as expected because of the way we have implemented it. See comments in the function."
   ]
  },
  {
   "cell_type": "code",
   "execution_count": 5,
   "id": "08c273f3-b522-4771-a849-0cb22d2d6542",
   "metadata": {},
   "outputs": [],
   "source": [
    "def profiler(func):\n",
    "\n",
    "    # _counter points to object 0\n",
    "    _counter = 0 # immutable object\n",
    "\n",
    "    def inner(*args, **kwargs):\n",
    "        \n",
    "        nonlocal _counter\n",
    "\n",
    "        # _counter points to different objects at each call, i.e 1, 2, 3, ...\n",
    "        # taht is because int are immutable object\n",
    "        \n",
    "        _counter += 1\n",
    "        result = func(*args, **kwargs)\n",
    "        \n",
    "        return result\n",
    "\n",
    "    # counter points to object 0\n",
    "    inner.counter = _counter \n",
    "    return inner\n",
    "\n",
    "\n",
    "@profiler\n",
    "def function():\n",
    "    sleep(random())\n",
    "    return True    "
   ]
  },
  {
   "cell_type": "code",
   "execution_count": 6,
   "id": "c4afd4a0-450a-4c7d-8465-b727c187fd3a",
   "metadata": {},
   "outputs": [
    {
     "data": {
      "text/plain": [
       "(True, True, True)"
      ]
     },
     "execution_count": 6,
     "metadata": {},
     "output_type": "execute_result"
    }
   ],
   "source": [
    "function(), function(), function()"
   ]
  },
  {
   "cell_type": "code",
   "execution_count": 7,
   "id": "9d1a5d3d-c416-43fc-ad76-3b568d8505f4",
   "metadata": {},
   "outputs": [
    {
     "data": {
      "text/plain": [
       "0"
      ]
     },
     "execution_count": 7,
     "metadata": {},
     "output_type": "execute_result"
    }
   ],
   "source": [
    "function.counter"
   ]
  },
  {
   "cell_type": "markdown",
   "id": "ca9fc233-28ac-4888-bdac-8a736c2a2cc8",
   "metadata": {},
   "source": [
    "Answer above is incorrect because ```_counter``` and ```count``` points toward different objects.\n",
    "\n",
    "We can fix it by using mutable object instead."
   ]
  },
  {
   "cell_type": "code",
   "execution_count": 9,
   "id": "117d274f-5199-4dca-8ccd-55afc5c86ffe",
   "metadata": {},
   "outputs": [],
   "source": [
    "def profiler(func):\n",
    "\n",
    "    # _counter points to list\n",
    "    _counter = [0] # mutable object\n",
    "\n",
    "    def inner(*args, **kwargs):\n",
    "        \n",
    "        nonlocal _counter\n",
    "        _counter[0] += 1\n",
    "        result = func(*args, **kwargs)\n",
    "        \n",
    "        return result\n",
    "\n",
    "    inner.counter = _counter \n",
    "    return inner\n",
    "\n",
    "\n",
    "@profiler\n",
    "def function():\n",
    "    sleep(random())\n",
    "    return True "
   ]
  },
  {
   "cell_type": "code",
   "execution_count": 10,
   "id": "450fc5f9-293b-4e22-a28a-76637830a74b",
   "metadata": {},
   "outputs": [
    {
     "data": {
      "text/plain": [
       "(True, True, True)"
      ]
     },
     "execution_count": 10,
     "metadata": {},
     "output_type": "execute_result"
    }
   ],
   "source": [
    "function(), function(), function()"
   ]
  },
  {
   "cell_type": "code",
   "execution_count": 11,
   "id": "5d7a7a4f-d132-4fc5-ab69-c8eb6bbf4c8b",
   "metadata": {},
   "outputs": [
    {
     "data": {
      "text/plain": [
       "[3]"
      ]
     },
     "execution_count": 11,
     "metadata": {},
     "output_type": "execute_result"
    }
   ],
   "source": [
    "function.counter"
   ]
  },
  {
   "cell_type": "markdown",
   "id": "0e6886d7-7665-4a9c-985d-50741caf82a2",
   "metadata": {},
   "source": [
    "Here ```_counter``` and ```count``` points to the same list object that is why answer is correct."
   ]
  },
  {
   "cell_type": "markdown",
   "id": "d0a01044-558e-433c-9115-065bb5382818",
   "metadata": {},
   "source": [
    "If we want to use immutable object, we must change our implementation."
   ]
  },
  {
   "cell_type": "code",
   "execution_count": 14,
   "id": "03821262-fef1-47f4-acae-79474ae594e4",
   "metadata": {},
   "outputs": [],
   "source": [
    "def profiler(func):\n",
    "\n",
    "    _counter = 0\n",
    "\n",
    "    def inner(*args, **kwargs):\n",
    "        \n",
    "        nonlocal _counter\n",
    "        _counter += 1\n",
    "        result = func(*args, **kwargs)\n",
    "        \n",
    "        return result\n",
    "\n",
    "    # now counter() points to the same object as _counter\n",
    "    def counter():\n",
    "        return _counter \n",
    "        \n",
    "    inner.counter = counter\n",
    "    return inner\n",
    "\n",
    "\n",
    "@profiler\n",
    "def function():\n",
    "    sleep(random())\n",
    "    return True "
   ]
  },
  {
   "cell_type": "code",
   "execution_count": 15,
   "id": "bbfcd488-baf8-4fa5-8cde-1323ba54c33b",
   "metadata": {},
   "outputs": [
    {
     "data": {
      "text/plain": [
       "(True, True, True)"
      ]
     },
     "execution_count": 15,
     "metadata": {},
     "output_type": "execute_result"
    }
   ],
   "source": [
    "function(), function(), function()"
   ]
  },
  {
   "cell_type": "code",
   "execution_count": 16,
   "id": "c1dfbcdb-0e00-4e58-b0f4-0c5c041c1466",
   "metadata": {},
   "outputs": [
    {
     "data": {
      "text/plain": [
       "3"
      ]
     },
     "execution_count": 16,
     "metadata": {},
     "output_type": "execute_result"
    }
   ],
   "source": [
    "function.counter()"
   ]
  },
  {
   "cell_type": "markdown",
   "id": "79ab115f-94e6-4aa9-a101-c4eb13d5dd08",
   "metadata": {},
   "source": [
    "#### b. complete example"
   ]
  },
  {
   "cell_type": "code",
   "execution_count": 18,
   "id": "a0cc7cca-dcca-4a03-8684-2d3506682df0",
   "metadata": {},
   "outputs": [],
   "source": [
    "def profiler(func):\n",
    "\n",
    "    _counter = 0\n",
    "    _elapsed_time = 0\n",
    "\n",
    "    def inner(*args, **kwargs):\n",
    "        \n",
    "        nonlocal _counter\n",
    "        nonlocal _elapsed_time\n",
    "        \n",
    "        _counter += 1\n",
    "    \n",
    "        start = perf_counter()\n",
    "        result = func(*args, **kwargs)\n",
    "        end = perf_counter()\n",
    "\n",
    "        _elapsed_time += end-start\n",
    "\n",
    "        \n",
    "        return result\n",
    "        \n",
    "    def counter():\n",
    "        return _counter\n",
    "\n",
    "    def elapsed_time():\n",
    "        return _elapsed_time\n",
    "\n",
    "    def avg_elapsed_time():\n",
    "        return _elapsed_time/_counter\n",
    "\n",
    "    inner.counter = counter\n",
    "    inner.elapsed_time = elapsed_time\n",
    "    inner.avg_elapsed_time = avg_elapsed_time\n",
    "    return inner\n",
    "\n",
    "\n",
    "@profiler\n",
    "def function():\n",
    "    sleep(random())\n",
    "    return True "
   ]
  },
  {
   "cell_type": "code",
   "execution_count": 19,
   "id": "385d0c85-f341-42a2-a763-412004330c1a",
   "metadata": {},
   "outputs": [
    {
     "data": {
      "text/plain": [
       "(True, True, True)"
      ]
     },
     "execution_count": 19,
     "metadata": {},
     "output_type": "execute_result"
    }
   ],
   "source": [
    "function(), function(), function()"
   ]
  },
  {
   "cell_type": "code",
   "execution_count": 20,
   "id": "a33c3924-a424-459f-bb85-42061549e5bb",
   "metadata": {},
   "outputs": [
    {
     "data": {
      "text/plain": [
       "(3, 1.8992454998660833, 0.6330818332886944)"
      ]
     },
     "execution_count": 20,
     "metadata": {},
     "output_type": "execute_result"
    }
   ],
   "source": [
    "function.counter(), function.elapsed_time(), function.avg_elapsed_time()"
   ]
  },
  {
   "cell_type": "markdown",
   "id": "2468966c-4aff-4d9c-8f34-36e80dc8cc70",
   "metadata": {},
   "source": [
    "## B. Class approach"
   ]
  },
  {
   "cell_type": "code",
   "execution_count": 22,
   "id": "d7372aad-398d-4135-9aef-711cd3e22e8f",
   "metadata": {},
   "outputs": [],
   "source": [
    "class Profiler:\n",
    "\n",
    "    def __init__(self, func):\n",
    "        self.func = func\n",
    "        self.counter = 0\n",
    "        self.elapsed_time = 0\n",
    "\n",
    "    def __call__(self, *args, **kwargs):\n",
    "        self.counter += 1\n",
    "        start = perf_counter()\n",
    "        result = self.func(*args, **kwargs)\n",
    "        end = perf_counter()\n",
    "        self.elapsed_time += end-start\n",
    "        return result\n",
    "\n",
    "    @property\n",
    "    def avg_elapsed_time(self):\n",
    "        return self.elapsed_time/self.counter\n",
    "\n",
    "def function():\n",
    "    sleep(random())\n",
    "    return True "
   ]
  },
  {
   "cell_type": "code",
   "execution_count": 23,
   "id": "4cc7c386-010b-4a21-aa62-cd426b4b10f0",
   "metadata": {},
   "outputs": [],
   "source": [
    "profiled_func = Profiler(function) # create a Profiler instance"
   ]
  },
  {
   "cell_type": "code",
   "execution_count": 24,
   "id": "198dcc05-1773-4315-8694-0da29872df3f",
   "metadata": {},
   "outputs": [
    {
     "data": {
      "text/plain": [
       "(True, True, True)"
      ]
     },
     "execution_count": 24,
     "metadata": {},
     "output_type": "execute_result"
    }
   ],
   "source": [
    "profiled_func(), profiled_func(), profiled_func() "
   ]
  },
  {
   "cell_type": "code",
   "execution_count": 25,
   "id": "4d5ab982-361c-44ff-8d7c-0a950867284a",
   "metadata": {},
   "outputs": [
    {
     "data": {
      "text/plain": [
       "(3, 1.7510794999543577, 0.5836931666514525)"
      ]
     },
     "execution_count": 25,
     "metadata": {},
     "output_type": "execute_result"
    }
   ],
   "source": [
    "profiled_func.counter, profiled_func.elapsed_time, profiled_func.avg_elapsed_time"
   ]
  },
  {
   "cell_type": "markdown",
   "id": "37ffbae7-7c62-4086-b86c-8675b35cdf4a",
   "metadata": {},
   "source": [
    "We can also make use of the syntactic sugar expression"
   ]
  },
  {
   "cell_type": "code",
   "execution_count": 27,
   "id": "a9149b6e-0859-4a18-b3f0-a215b7dd38f7",
   "metadata": {},
   "outputs": [],
   "source": [
    "@Profiler\n",
    "def function():\n",
    "    sleep(random())\n",
    "    return True "
   ]
  },
  {
   "cell_type": "code",
   "execution_count": 28,
   "id": "ad65314d-6cde-410e-a358-53f6c217f7a5",
   "metadata": {},
   "outputs": [
    {
     "data": {
      "text/plain": [
       "(True, True, True)"
      ]
     },
     "execution_count": 28,
     "metadata": {},
     "output_type": "execute_result"
    }
   ],
   "source": [
    "function(), function(), function()"
   ]
  },
  {
   "cell_type": "code",
   "execution_count": 29,
   "id": "d9799b61-462b-424b-b959-0e467e2482a0",
   "metadata": {},
   "outputs": [
    {
     "data": {
      "text/plain": [
       "(3, 0.959229200379923, 0.31974306679330766)"
      ]
     },
     "execution_count": 29,
     "metadata": {},
     "output_type": "execute_result"
    }
   ],
   "source": [
    "function.counter, function.elapsed_time, function.avg_elapsed_time"
   ]
  },
  {
   "cell_type": "code",
   "execution_count": null,
   "id": "8f276316-37a7-4e79-94d9-7c51321b736a",
   "metadata": {},
   "outputs": [],
   "source": []
  }
 ],
 "metadata": {
  "kernelspec": {
   "display_name": "Python 3 (ipykernel)",
   "language": "python",
   "name": "python3"
  },
  "language_info": {
   "codemirror_mode": {
    "name": "ipython",
    "version": 3
   },
   "file_extension": ".py",
   "mimetype": "text/x-python",
   "name": "python",
   "nbconvert_exporter": "python",
   "pygments_lexer": "ipython3",
   "version": "3.12.7"
  }
 },
 "nbformat": 4,
 "nbformat_minor": 5
}
