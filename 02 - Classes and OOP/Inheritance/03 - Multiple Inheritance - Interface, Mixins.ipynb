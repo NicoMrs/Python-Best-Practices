{
 "cells": [
  {
   "cell_type": "markdown",
   "id": "1cbe1a44-9899-4455-8f0f-d9221b91ef3c",
   "metadata": {},
   "source": [
    "# Multiple Inheritance"
   ]
  },
  {
   "cell_type": "markdown",
   "id": "39affe69-2186-4338-941c-85591de6092f",
   "metadata": {},
   "source": [
    "It'is a good practice to use inheritance only for 2 reasons:\n",
    "- defining a programming interface\n",
    "- mixins  \n",
    "\n",
    "Defining a weird type that possesses combined properties from two parent class should be avoided by using composition."
   ]
  },
  {
   "cell_type": "markdown",
   "id": "b5ea11bd-1f42-4c16-a0f3-4ac61bfbbfdf",
   "metadata": {},
   "source": [
    "## I. Programming Interface"
   ]
  },
  {
   "cell_type": "code",
   "execution_count": 14,
   "id": "d83d56d8-0397-4c41-bced-baf7708e88e1",
   "metadata": {},
   "outputs": [],
   "source": [
    "from abc import ABC, abstractmethod"
   ]
  },
  {
   "cell_type": "code",
   "execution_count": 22,
   "id": "94208ede-5c56-4351-b74a-e91546aabe5b",
   "metadata": {},
   "outputs": [],
   "source": [
    "class Logger(ABC):\n",
    "    \n",
    "    @abstractmethod\n",
    "    def store(self):\n",
    "        pass\n",
    "\n",
    "    @abstractmethod\n",
    "    def register(self):\n",
    "        pass\n",
    "\n",
    "class Iterable(ABC):\n",
    "\n",
    "    @abstractmethod\n",
    "    def __iter__(self):\n",
    "        pass"
   ]
  },
  {
   "cell_type": "code",
   "execution_count": 32,
   "id": "790376ea-1536-40bf-ac0c-135cb27955bf",
   "metadata": {},
   "outputs": [],
   "source": [
    "class LoggerChain(Logger, Iterable):\n",
    "    pass"
   ]
  },
  {
   "cell_type": "code",
   "execution_count": 34,
   "id": "dd3a41aa-6396-4f66-9783-9a2686bc3464",
   "metadata": {},
   "outputs": [
    {
     "name": "stdout",
     "output_type": "stream",
     "text": [
      "Can't instantiate abstract class LoggerChain without an implementation for abstract methods '__iter__', 'register', 'store'\n"
     ]
    }
   ],
   "source": [
    "try:\n",
    "    LoggerChain()\n",
    "except TypeError as err:\n",
    "    print(err) "
   ]
  },
  {
   "cell_type": "markdown",
   "id": "d0fa8cb1-8818-4932-b377-0b054f1f59c3",
   "metadata": {},
   "source": [
    "Here we have sucessfully define a programming interface which is prevented from being instantiated because it does not have the required methods thanks to Abastract Base Class. Here, multiple inheritance is **not used** for **code reuse** but rather to check implementation."
   ]
  },
  {
   "cell_type": "markdown",
   "id": "f26363ea-21a3-465a-bbdb-296ad80dee8e",
   "metadata": {},
   "source": [
    "## II. Mixins"
   ]
  },
  {
   "cell_type": "markdown",
   "id": "cdd613d6-55bb-4a24-a75c-0865d496894f",
   "metadata": {},
   "source": [
    "Mixins are used to enhance class functionailities also there are not intended to be instantiated."
   ]
  },
  {
   "cell_type": "code",
   "execution_count": 64,
   "id": "d0abe17d-6d5b-43b9-96c9-a6658c979313",
   "metadata": {},
   "outputs": [
    {
     "name": "stdout",
     "output_type": "stream",
     "text": [
      "my message\n"
     ]
    }
   ],
   "source": [
    "class Streamer:\n",
    "    def message(self, message):\n",
    "        print(message)\n",
    "\n",
    "s = Streamer()\n",
    "s.message(\"my message\")"
   ]
  },
  {
   "cell_type": "markdown",
   "id": "862cacda-6839-4358-b3f5-4d6e04842c59",
   "metadata": {},
   "source": [
    "#### a. define a mixin\n",
    "A mixin cannot and should not be instantiated. It does work because when going down the method resolution order, object does not have a message method."
   ]
  },
  {
   "cell_type": "code",
   "execution_count": 89,
   "id": "d1b68d60-5293-485e-bb72-0636debd154f",
   "metadata": {},
   "outputs": [],
   "source": [
    "class LouderMixin:\n",
    "\n",
    "    # here super() goes down the __mro__ (method resolution order)\n",
    "    def message(self, message):\n",
    "        super().message(message.upper())"
   ]
  },
  {
   "cell_type": "code",
   "execution_count": 91,
   "id": "ed90c801-9272-4124-87e2-24c2bfa0696c",
   "metadata": {},
   "outputs": [
    {
     "name": "stdout",
     "output_type": "stream",
     "text": [
      "'super' object has no attribute 'message'\n"
     ]
    }
   ],
   "source": [
    "try:\n",
    "    l = LouderMixin()\n",
    "    l.message(\"my message\")\n",
    "except AttributeError as err:\n",
    "    print(err)"
   ]
  },
  {
   "cell_type": "markdown",
   "id": "b380bc75-5f0a-48ab-a830-d11e863910d0",
   "metadata": {},
   "source": [
    "#### b. using a mixin"
   ]
  },
  {
   "cell_type": "code",
   "execution_count": 101,
   "id": "d189ec05-acec-4ef9-a907-ce825c72558f",
   "metadata": {},
   "outputs": [],
   "source": [
    "class LoudStreamer(LouderMixin, Streamer):\n",
    "    pass"
   ]
  },
  {
   "cell_type": "code",
   "execution_count": 103,
   "id": "ab7b67e9-f462-4f3d-9c11-a12a09ccc48b",
   "metadata": {},
   "outputs": [
    {
     "name": "stdout",
     "output_type": "stream",
     "text": [
      "MY MESSAGE\n"
     ]
    }
   ],
   "source": [
    "s = LoudStreamer()\n",
    "s.message(\"my message\")"
   ]
  },
  {
   "cell_type": "code",
   "execution_count": 105,
   "id": "0e561d8c-f6d7-42f7-b360-7da2dbc32794",
   "metadata": {},
   "outputs": [
    {
     "data": {
      "text/plain": [
       "(__main__.LoudStreamer, __main__.LouderMixin, __main__.Streamer, object)"
      ]
     },
     "execution_count": 105,
     "metadata": {},
     "output_type": "execute_result"
    }
   ],
   "source": [
    "LoudStreamer.__mro__ "
   ]
  },
  {
   "cell_type": "code",
   "execution_count": 108,
   "id": "f0398331-3608-4c2d-a7f6-563aaf0ebe31",
   "metadata": {},
   "outputs": [],
   "source": [
    "# it call LouderMixin.message() which call super() and that redirect in down to Streamer"
   ]
  },
  {
   "cell_type": "code",
   "execution_count": null,
   "id": "6f112118-88a4-4839-966d-aa4e2a60b7bc",
   "metadata": {},
   "outputs": [],
   "source": []
  }
 ],
 "metadata": {
  "kernelspec": {
   "display_name": "Python 3 (ipykernel)",
   "language": "python",
   "name": "python3"
  },
  "language_info": {
   "codemirror_mode": {
    "name": "ipython",
    "version": 3
   },
   "file_extension": ".py",
   "mimetype": "text/x-python",
   "name": "python",
   "nbconvert_exporter": "python",
   "pygments_lexer": "ipython3",
   "version": "3.12.7"
  }
 },
 "nbformat": 4,
 "nbformat_minor": 5
}
