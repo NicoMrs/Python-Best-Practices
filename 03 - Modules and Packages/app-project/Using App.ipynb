{
 "cells": [
  {
   "cell_type": "markdown",
   "id": "67a5a703-8381-428d-ac4e-e793f5789122",
   "metadata": {},
   "source": [
    "### Importing from subpackages"
   ]
  },
  {
   "cell_type": "markdown",
   "id": "28af2a3e-a99f-4eee-8413-658851b71252",
   "metadata": {},
   "source": [
    "Package import is controlled through `init.py`, which make it possible to make symbols accessible through packages or subpackages name."
   ]
  },
  {
   "cell_type": "code",
   "execution_count": 44,
   "id": "c6d2b510-84a2-458b-929e-2c67a4a67faa",
   "metadata": {},
   "outputs": [
    {
     "name": "stdout",
     "output_type": "stream",
     "text": [
      "Base Model\n",
      "Standard Model\n"
     ]
    }
   ],
   "source": [
    "import app.model.model\n",
    "\n",
    "m = app.model.model.Model()"
   ]
  },
  {
   "cell_type": "code",
   "execution_count": 35,
   "id": "37e3e821-aff8-41f4-be5a-0b5643ea7b17",
   "metadata": {},
   "outputs": [
    {
     "name": "stdout",
     "output_type": "stream",
     "text": [
      "Base Model\n",
      "Standard Model\n"
     ]
    }
   ],
   "source": [
    "import app.model as model\n",
    "\n",
    "m = model.Model()"
   ]
  },
  {
   "cell_type": "code",
   "execution_count": null,
   "id": "3c109ecb-77b5-48ee-85ba-3e9cdd978f1b",
   "metadata": {},
   "outputs": [],
   "source": []
  },
  {
   "cell_type": "markdown",
   "id": "4004eb95-eacd-4af5-8c73-bd910700560a",
   "metadata": {},
   "source": [
    "### Running a script as a main script"
   ]
  },
  {
   "cell_type": "code",
   "execution_count": 30,
   "id": "b3f04894-eb52-49ab-919c-82e2e658c3e2",
   "metadata": {},
   "outputs": [
    {
     "name": "stdout",
     "output_type": "stream",
     "text": [
      "SetUp a stream for model\n",
      "Base Model\n",
      "Standard Model\n",
      "Stream setting up ...\n"
     ]
    }
   ],
   "source": [
    "! py -m app.stream"
   ]
  },
  {
   "cell_type": "code",
   "execution_count": null,
   "id": "e2fd3b89-712c-4f1c-bcf6-15038c897b08",
   "metadata": {},
   "outputs": [],
   "source": []
  }
 ],
 "metadata": {
  "kernelspec": {
   "display_name": "Python 3 (ipykernel)",
   "language": "python",
   "name": "python3"
  },
  "language_info": {
   "codemirror_mode": {
    "name": "ipython",
    "version": 3
   },
   "file_extension": ".py",
   "mimetype": "text/x-python",
   "name": "python",
   "nbconvert_exporter": "python",
   "pygments_lexer": "ipython3",
   "version": "3.12.7"
  }
 },
 "nbformat": 4,
 "nbformat_minor": 5
}
