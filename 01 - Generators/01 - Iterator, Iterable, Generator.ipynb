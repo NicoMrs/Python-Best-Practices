{
 "cells": [
  {
   "cell_type": "code",
   "execution_count": 3,
   "id": "d1f2dd1b-87d4-4204-8b40-7c5bbbf76a1c",
   "metadata": {},
   "outputs": [],
   "source": [
    "import re\n",
    "import reprlib"
   ]
  },
  {
   "cell_type": "markdown",
   "id": "df98f982-fc0e-46a8-a24a-5c20fb05c586",
   "metadata": {},
   "source": [
    "### I. Build An Iterator From Scratch\n",
    "\n",
    "An iterable has the __iter__ protocol whereas the an iterator has both __iter__ and __next__ protocols implemented.\n",
    "\n",
    "Below, Sequence is **not** an iterator. It is an iterable. It would be a anti pattern to make it an iterator. Because we should be able to create\n",
    "as many iterators from the iterable without changing its internal state. Here from a Sequence we can, by calling iter() create iterators."
   ]
  },
  {
   "cell_type": "code",
   "execution_count": 31,
   "id": "7fb4a4c3-54c6-4ea8-97af-0500c529da61",
   "metadata": {},
   "outputs": [],
   "source": [
    "# Iterable\n",
    "class Sequence:\n",
    "\n",
    "    # group of alpha numeric characters\n",
    "    PATTERN = re.compile(r'\\w+')\n",
    "    \n",
    "    def __init__(self, sentence):\n",
    "        self.sentence = sentence\n",
    "        self.words = re.findall(PATTERN, sentence)\n",
    "\n",
    "    def __len__(self):\n",
    "        return len(words)\n",
    "\n",
    "    def __repr__(self):\n",
    "        # use reprlib for a better string representation, i,e .. to avoid to long string\n",
    "        return f\"{type(self).__name__}({reprlib.repr(self.sentence)})\" \n",
    "\n",
    "    def __iter__(self):\n",
    "        return SequenceIterator(self.words)\n",
    "\n",
    "# Iterator\n",
    "class SequenceIterator:\n",
    "\n",
    "    def __init__(self, words):\n",
    "        self.words = words\n",
    "        self.index = 0\n",
    "\n",
    "    def __iter__(self):\n",
    "        return self\n",
    "\n",
    "    def __next__(self):\n",
    "        try:\n",
    "            word = self.words[self.index]\n",
    "        except IndexError:\n",
    "            raise StopIteration()\n",
    "        self.index+=1\n",
    "        return word"
   ]
  },
  {
   "cell_type": "code",
   "execution_count": 33,
   "id": "7622c8e0-2d5b-4e04-b6ea-9977684b0beb",
   "metadata": {},
   "outputs": [],
   "source": [
    "sentence = \"I'am buying a car for my friends.\""
   ]
  },
  {
   "cell_type": "code",
   "execution_count": 35,
   "id": "4a8a225b-451e-4dde-9a0c-9cd56df12f87",
   "metadata": {},
   "outputs": [
    {
     "data": {
      "text/plain": [
       "Sequence(\"I'am buying ...r my friends.\")"
      ]
     },
     "execution_count": 35,
     "metadata": {},
     "output_type": "execute_result"
    }
   ],
   "source": [
    "s = Sequence(sentence)\n",
    "s"
   ]
  },
  {
   "cell_type": "code",
   "execution_count": 37,
   "id": "4f864bd3-a252-48c8-a04e-199a0ad5a889",
   "metadata": {},
   "outputs": [
    {
     "data": {
      "text/plain": [
       "['I', 'am', 'buying', 'a', 'car', 'for', 'my', 'friends']"
      ]
     },
     "execution_count": 37,
     "metadata": {},
     "output_type": "execute_result"
    }
   ],
   "source": [
    "s.words"
   ]
  },
  {
   "cell_type": "code",
   "execution_count": 39,
   "id": "36cacbd7-9940-49c8-b402-d97db53c6a07",
   "metadata": {},
   "outputs": [],
   "source": [
    "it = iter(s)"
   ]
  },
  {
   "cell_type": "code",
   "execution_count": 41,
   "id": "2d9ec65c-8fb9-4a96-8d90-3b424e2c3a63",
   "metadata": {},
   "outputs": [
    {
     "data": {
      "text/plain": [
       "'I'"
      ]
     },
     "execution_count": 41,
     "metadata": {},
     "output_type": "execute_result"
    }
   ],
   "source": [
    "next(it)"
   ]
  },
  {
   "cell_type": "code",
   "execution_count": 43,
   "id": "7e13272e-6332-4323-b726-ee868c2e4142",
   "metadata": {},
   "outputs": [
    {
     "data": {
      "text/plain": [
       "'am'"
      ]
     },
     "execution_count": 43,
     "metadata": {},
     "output_type": "execute_result"
    }
   ],
   "source": [
    "next(it)"
   ]
  },
  {
   "cell_type": "code",
   "execution_count": 45,
   "id": "7f52ff3f-1dd6-407a-9b37-a48dfa28e414",
   "metadata": {},
   "outputs": [
    {
     "data": {
      "text/plain": [
       "{'words': ['I', 'am', 'buying', 'a', 'car', 'for', 'my', 'friends'],\n",
       " 'index': 2}"
      ]
     },
     "execution_count": 45,
     "metadata": {},
     "output_type": "execute_result"
    }
   ],
   "source": [
    "vars(it)"
   ]
  },
  {
   "cell_type": "markdown",
   "id": "9713a50b-42de-4c2f-af2e-d301f7555f4c",
   "metadata": {},
   "source": [
    "### II. Use generator with the yield keyword\n",
    "\n",
    "The mere appearence of yield in a function will make it an iterator."
   ]
  },
  {
   "cell_type": "code",
   "execution_count": 65,
   "id": "954b9547-549f-447a-ad92-d67c258155fd",
   "metadata": {},
   "outputs": [],
   "source": [
    "class Sequence:\n",
    "\n",
    "    def __init__(self, setence):\n",
    "        self.sentence = sentence\n",
    "        self.words = re.findall(PATTERN, self.sentence) \n",
    "\n",
    "    def __repr__(self):\n",
    "        return f\"{type(self).__name__}({reprlib.repr(self.sentence)})\"\n",
    "\n",
    "    def __iter__(self):\n",
    "        for word in self.words:\n",
    "            yield word"
   ]
  },
  {
   "cell_type": "markdown",
   "id": "9678f7ab-3cb4-4b91-bfaa-705b8ef519f4",
   "metadata": {},
   "source": [
    "s2 = Sequence(sentence)\n",
    "s2"
   ]
  },
  {
   "cell_type": "code",
   "execution_count": 69,
   "id": "9fe66cc2-1c30-4af6-ab5f-fdd1f97e24dc",
   "metadata": {},
   "outputs": [],
   "source": [
    "it2 = iter(s2)"
   ]
  },
  {
   "cell_type": "code",
   "execution_count": 71,
   "id": "92ed7c5c-b6cf-4e4a-9881-498c44fcd902",
   "metadata": {},
   "outputs": [
    {
     "data": {
      "text/plain": [
       "'I'"
      ]
     },
     "execution_count": 71,
     "metadata": {},
     "output_type": "execute_result"
    }
   ],
   "source": [
    "next(it2)"
   ]
  },
  {
   "cell_type": "code",
   "execution_count": 73,
   "id": "c7bcabc8-008f-4d47-8131-2fb90a2f04dc",
   "metadata": {},
   "outputs": [
    {
     "name": "stdout",
     "output_type": "stream",
     "text": [
      "am\n",
      "buying\n",
      "a\n",
      "car\n",
      "for\n",
      "my\n",
      "friends\n"
     ]
    }
   ],
   "source": [
    "for w in it2:\n",
    "    print(w)"
   ]
  },
  {
   "cell_type": "markdown",
   "id": "5b557c42-14f3-40d8-9663-0e7ae1728c5e",
   "metadata": {},
   "source": [
    "### III. Lazy Generator Expression\n",
    "\n",
    "Here we improve the solution by making a lazy iterator that returns words on demand so that we don't need to extract every words in a list."
   ]
  },
  {
   "cell_type": "code",
   "execution_count": 79,
   "id": "e594e6de-67fd-4aa4-acf1-67085542685f",
   "metadata": {},
   "outputs": [],
   "source": [
    "class Sequence:\n",
    "\n",
    "    PATTERN = re.compile(r'\\w+')\n",
    "    \n",
    "    def __init__(self, text):\n",
    "        self.text = text\n",
    "\n",
    "    def __repr__(self):\n",
    "        return f\"{type(self).__name__}({reprlib.repr(self.sentence)})\"\n",
    "\n",
    "    def __iter__(self):\n",
    "        for match in PATTERN.finditer(self.text):\n",
    "            yield match.group()"
   ]
  },
  {
   "cell_type": "code",
   "execution_count": 83,
   "id": "68e58be1-fe5e-493e-9e88-197b4f98d90c",
   "metadata": {},
   "outputs": [],
   "source": [
    "s3 = Sequence(sentence)"
   ]
  },
  {
   "cell_type": "code",
   "execution_count": 85,
   "id": "074cbadb-b5f9-4e2e-8610-70e4d8663241",
   "metadata": {},
   "outputs": [
    {
     "data": {
      "text/plain": [
       "'I'"
      ]
     },
     "execution_count": 85,
     "metadata": {},
     "output_type": "execute_result"
    }
   ],
   "source": [
    "it3 = iter(s3)\n",
    "next(it3)"
   ]
  },
  {
   "cell_type": "markdown",
   "id": "cf628b11-2938-429a-a18a-a9455a060da0",
   "metadata": {},
   "source": [
    "### IV. Lazy Generator Expression"
   ]
  },
  {
   "cell_type": "code",
   "execution_count": 90,
   "id": "45701c5c-08c9-4eb3-9dd4-fda4aa3cc798",
   "metadata": {},
   "outputs": [],
   "source": [
    "class Sequence:\n",
    "\n",
    "    PATTERN = re.compile(r'\\w+')\n",
    "    \n",
    "    def __init__(self, text):\n",
    "        self.text = text\n",
    "\n",
    "    def __repr__(self):\n",
    "        return f\"{type(self).__name__}({reprlib.repr(self.sentence)})\"\n",
    "\n",
    "    def __iter__(self):\n",
    "        return (match.group() for match in PATTERN.finditer(self.text))"
   ]
  },
  {
   "cell_type": "code",
   "execution_count": 92,
   "id": "55e10b6e-7abf-4604-898b-78964ba91684",
   "metadata": {},
   "outputs": [],
   "source": [
    "s5 = Sequence(sentence)"
   ]
  },
  {
   "cell_type": "code",
   "execution_count": 94,
   "id": "9239bb91-a50a-4cb2-92f2-bdaa35715549",
   "metadata": {},
   "outputs": [],
   "source": [
    "it5 = iter(s5)"
   ]
  },
  {
   "cell_type": "code",
   "execution_count": 96,
   "id": "3ea4181f-e8e6-4079-aacf-31ee0c324642",
   "metadata": {},
   "outputs": [
    {
     "data": {
      "text/plain": [
       "'I'"
      ]
     },
     "execution_count": 96,
     "metadata": {},
     "output_type": "execute_result"
    }
   ],
   "source": [
    "next(it5)"
   ]
  },
  {
   "cell_type": "code",
   "execution_count": null,
   "id": "e02e6524-fa75-4073-8684-b46d3eae2004",
   "metadata": {},
   "outputs": [],
   "source": []
  }
 ],
 "metadata": {
  "kernelspec": {
   "display_name": "Python [conda env:MLenv]",
   "language": "python",
   "name": "conda-env-MLenv-py"
  },
  "language_info": {
   "codemirror_mode": {
    "name": "ipython",
    "version": 3
   },
   "file_extension": ".py",
   "mimetype": "text/x-python",
   "name": "python",
   "nbconvert_exporter": "python",
   "pygments_lexer": "ipython3",
   "version": "3.9.21"
  }
 },
 "nbformat": 4,
 "nbformat_minor": 5
}
