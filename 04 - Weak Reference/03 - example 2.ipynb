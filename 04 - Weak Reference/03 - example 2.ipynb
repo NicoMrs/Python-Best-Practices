{
 "cells": [
  {
   "cell_type": "code",
   "execution_count": 1,
   "id": "9cddaa58-fde8-47d4-9fce-ca3d3d55704f",
   "metadata": {},
   "outputs": [],
   "source": [
    "import sys\n",
    "import weakref"
   ]
  },
  {
   "cell_type": "markdown",
   "id": "e2136a07-496f-4695-90fb-09d174d4c920",
   "metadata": {},
   "source": [
    "## Recall how reference count work"
   ]
  },
  {
   "cell_type": "code",
   "execution_count": 3,
   "id": "b923b4c3-60bf-4635-a2d4-9b8493c309c1",
   "metadata": {},
   "outputs": [],
   "source": [
    "class MyObject:\n",
    "    pass"
   ]
  },
  {
   "cell_type": "code",
   "execution_count": 4,
   "id": "376e10bd-7937-4d0e-9acc-fd1c826387e1",
   "metadata": {},
   "outputs": [
    {
     "name": "stdout",
     "output_type": "stream",
     "text": [
      "reference count <__main__.MyObject object at 0x000001CEE4E0FB30> : 1\n"
     ]
    }
   ],
   "source": [
    "o = MyObject()\n",
    "print(f\"reference count {o} : {sys.getrefcount(o)-1}\")"
   ]
  },
  {
   "cell_type": "code",
   "execution_count": 5,
   "id": "1e49cd2a-e009-4865-8055-1eefd657f5cd",
   "metadata": {},
   "outputs": [
    {
     "name": "stdout",
     "output_type": "stream",
     "text": [
      "reference count <__main__.MyObject object at 0x000001CEE4E0FB30> : 2\n"
     ]
    }
   ],
   "source": [
    "o_bis = o\n",
    "print(f\"reference count {o} : {sys.getrefcount(o)-1}\")"
   ]
  },
  {
   "cell_type": "code",
   "execution_count": 6,
   "id": "f25805b5-f11c-4e41-97bc-29853e5dab74",
   "metadata": {},
   "outputs": [
    {
     "data": {
      "text/plain": [
       "<weakref at 0x000001CEE607DAD0; to 'MyObject' at 0x000001CEE4E0FB30>"
      ]
     },
     "execution_count": 6,
     "metadata": {},
     "output_type": "execute_result"
    }
   ],
   "source": [
    " o_ref = weakref.ref(o)\n",
    "o_ref"
   ]
  },
  {
   "cell_type": "code",
   "execution_count": 7,
   "id": "41d9cd01-617b-4ce6-8098-2afaeee14382",
   "metadata": {},
   "outputs": [
    {
     "name": "stdout",
     "output_type": "stream",
     "text": [
      "reference count <__main__.MyObject object at 0x000001CEE4E0FB30> : 2\n"
     ]
    }
   ],
   "source": [
    "# when creating a weak reference to an object, it doesn't incrase the reference count\n",
    "print(f\"reference count {o} : {sys.getrefcount(o)-1}\")"
   ]
  },
  {
   "cell_type": "code",
   "execution_count": 8,
   "id": "3529e1d4-eb45-40ab-9265-789c646df3b6",
   "metadata": {},
   "outputs": [
    {
     "name": "stdout",
     "output_type": "stream",
     "text": [
      "reference count <__main__.MyObject object at 0x000001CEE4E0FB30> : 3\n"
     ]
    }
   ],
   "source": [
    "# however when calling the weak reference, it creates a \"hard reference\" and increase the reference count\n",
    "o_ter = o_ref()\n",
    "print(f\"reference count {o} : {sys.getrefcount(o)-1}\")"
   ]
  },
  {
   "cell_type": "markdown",
   "id": "dadf1f72-0477-41a2-aa7c-43a158f4c4f5",
   "metadata": {},
   "source": [
    "## Using a weakref cache\n",
    "\n",
    "Once again the smart trick is to store a weakref of the object in the cache once created. Then, when called upon, lookup in the cache and return a hard\n",
    "ref of this object from the weak reference by calling weak_ref()."
   ]
  },
  {
   "cell_type": "code",
   "execution_count": 10,
   "id": "4dbfa5b5-4d87-47ef-9901-b222038ac8d8",
   "metadata": {},
   "outputs": [],
   "source": [
    "class Date:\n",
    "    _cache = { }\n",
    "    \n",
    "    @staticmethod\n",
    "    def __new__(cls, year, month, day):\n",
    "        \n",
    "        selfref = Date._cache.get((year,month,day))\n",
    "        if not selfref:\n",
    "            self = super().__new__(cls)\n",
    "            self.year = year\n",
    "            self.month = month\n",
    "            self.day = day\n",
    "            Date._cache[year,month,day] = weakref.ref(self) # return a hard ref to the object\n",
    "        else:\n",
    "            self = selfref() # return a hard ref to the object\n",
    "            \n",
    "        return self\n",
    "    \n",
    "    def __init__(self, year, month, day):\n",
    "        pass\n",
    "        \n",
    "    def __del__(self):\n",
    "        print(f\"{self} delete\")\n",
    "        del Date._cache[self.year,self.month,self.day] # clear cache"
   ]
  },
  {
   "cell_type": "code",
   "execution_count": 11,
   "id": "e9c34961-1ecb-4a74-a644-3bb44516d5c9",
   "metadata": {},
   "outputs": [
    {
     "name": "stdout",
     "output_type": "stream",
     "text": [
      "reference count <__main__.Date object at 0x000001CEE4A1A0F0> : 1\n"
     ]
    }
   ],
   "source": [
    "a = Date(2022, 12,3)\n",
    "print(f\"reference count {a} : {sys.getrefcount(a)-1}\")"
   ]
  },
  {
   "cell_type": "code",
   "execution_count": 12,
   "id": "25cd0004-491d-484d-8955-aa1ac5312d14",
   "metadata": {},
   "outputs": [
    {
     "name": "stdout",
     "output_type": "stream",
     "text": [
      "reference count <__main__.Date object at 0x000001CEE4A1A0F0> : 2\n"
     ]
    }
   ],
   "source": [
    "b = a # look up in dict and create a hard ref by calling weakref.ref()\n",
    "print(f\"reference count {a} : {sys.getrefcount(a)-1}\")"
   ]
  },
  {
   "cell_type": "code",
   "execution_count": 13,
   "id": "83b747f3-2b57-4132-a501-4002908cb106",
   "metadata": {},
   "outputs": [
    {
     "data": {
      "text/plain": [
       "{(2022,\n",
       "  12,\n",
       "  3): <weakref at 0x000001CEE607EE80; to 'Date' at 0x000001CEE4A1A0F0>}"
      ]
     },
     "execution_count": 13,
     "metadata": {},
     "output_type": "execute_result"
    }
   ],
   "source": [
    "Date._cache"
   ]
  },
  {
   "cell_type": "code",
   "execution_count": 14,
   "id": "570805a9-83a5-4ef4-a990-a67d95d7ad50",
   "metadata": {},
   "outputs": [
    {
     "data": {
      "text/plain": [
       "True"
      ]
     },
     "execution_count": 14,
     "metadata": {},
     "output_type": "execute_result"
    }
   ],
   "source": [
    "a is b"
   ]
  },
  {
   "cell_type": "code",
   "execution_count": 15,
   "id": "26786752-d622-4928-88fd-5e3d89b55b82",
   "metadata": {},
   "outputs": [],
   "source": [
    "del b"
   ]
  },
  {
   "cell_type": "code",
   "execution_count": 16,
   "id": "c4fba4f6-767e-4842-b061-1039d0839c52",
   "metadata": {},
   "outputs": [
    {
     "name": "stdout",
     "output_type": "stream",
     "text": [
      "reference count <__main__.Date object at 0x000001CEE4A1A0F0> : 1\n"
     ]
    }
   ],
   "source": [
    "print(f\"reference count {a} : {sys.getrefcount(a)-1}\")"
   ]
  },
  {
   "cell_type": "code",
   "execution_count": 17,
   "id": "fdfc2257-396a-49fb-b935-55980792e511",
   "metadata": {},
   "outputs": [
    {
     "name": "stdout",
     "output_type": "stream",
     "text": [
      "<__main__.Date object at 0x000001CEE4A1A0F0> delete\n"
     ]
    }
   ],
   "source": [
    "del a"
   ]
  },
  {
   "cell_type": "code",
   "execution_count": 18,
   "id": "ae703801-b4b5-4394-98b6-94dbda2177a0",
   "metadata": {},
   "outputs": [
    {
     "data": {
      "text/plain": [
       "{}"
      ]
     },
     "execution_count": 18,
     "metadata": {},
     "output_type": "execute_result"
    }
   ],
   "source": [
    "Date._cache"
   ]
  },
  {
   "cell_type": "code",
   "execution_count": null,
   "id": "c102dfdb-1da7-4474-b37b-b39496c932bd",
   "metadata": {},
   "outputs": [],
   "source": []
  }
 ],
 "metadata": {
  "kernelspec": {
   "display_name": "Python 3 (ipykernel)",
   "language": "python",
   "name": "python3"
  },
  "language_info": {
   "codemirror_mode": {
    "name": "ipython",
    "version": 3
   },
   "file_extension": ".py",
   "mimetype": "text/x-python",
   "name": "python",
   "nbconvert_exporter": "python",
   "pygments_lexer": "ipython3",
   "version": "3.12.7"
  }
 },
 "nbformat": 4,
 "nbformat_minor": 5
}
