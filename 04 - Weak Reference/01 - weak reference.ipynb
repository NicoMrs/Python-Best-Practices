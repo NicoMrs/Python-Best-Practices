{
 "cells": [
  {
   "cell_type": "markdown",
   "id": "4c2821db-353b-476d-89b5-6e98ccb4179d",
   "metadata": {},
   "source": [
    "# Memory management\n",
    "This workbook show how memory management work in CPython. It can differ with other Pyhton implementation."
   ]
  },
  {
   "cell_type": "code",
   "execution_count": 2,
   "id": "651e4b89-d3b6-4759-bfea-b81e18771d11",
   "metadata": {},
   "outputs": [],
   "source": [
    "import sys"
   ]
  },
  {
   "cell_type": "markdown",
   "id": "b87f73d2-c832-44ae-bbf4-bac3757234b9",
   "metadata": {},
   "source": [
    "## I. Reference count\n",
    "In Python, the garbage collector deletes an object when there is no more reference to it. When there is no more reference to an object the `__del__` method is called. \n",
    "\n",
    "The function `sys.getcountref` returns the reference count (plus one because the object is passed as argument to the function) an object. "
   ]
  },
  {
   "cell_type": "code",
   "execution_count": 4,
   "id": "6b62cd3e-ec0f-4c02-bf81-efb011ed9d8c",
   "metadata": {},
   "outputs": [],
   "source": [
    "class C:\n",
    "    def __del__(self):\n",
    "        print(f\"{self} is deleted\")\n",
    "        del self\n",
    "    pass"
   ]
  },
  {
   "cell_type": "code",
   "execution_count": 5,
   "id": "b6d16086-512e-4d70-b46f-7df3a9b68947",
   "metadata": {},
   "outputs": [
    {
     "data": {
      "text/plain": [
       "2"
      ]
     },
     "execution_count": 5,
     "metadata": {},
     "output_type": "execute_result"
    }
   ],
   "source": [
    "c = C()\n",
    "sys.getrefcount(c) # 2 because there is one ref associated to the argument"
   ]
  },
  {
   "cell_type": "code",
   "execution_count": 6,
   "id": "30e84fe1-9830-49ec-87bc-14c6b5060f9f",
   "metadata": {},
   "outputs": [
    {
     "data": {
      "text/plain": [
       "3"
      ]
     },
     "execution_count": 6,
     "metadata": {},
     "output_type": "execute_result"
    }
   ],
   "source": [
    "d = c\n",
    "sys.getrefcount(c)"
   ]
  },
  {
   "cell_type": "code",
   "execution_count": 7,
   "id": "4b1c47e7-01a4-46f8-8598-ba39cfad9cd8",
   "metadata": {},
   "outputs": [],
   "source": [
    "del d"
   ]
  },
  {
   "cell_type": "code",
   "execution_count": 8,
   "id": "49dd3747-c563-4964-b06f-b3af630bf464",
   "metadata": {},
   "outputs": [
    {
     "name": "stdout",
     "output_type": "stream",
     "text": [
      "<__main__.C object at 0x000001FD1114B080> is deleted\n"
     ]
    }
   ],
   "source": [
    "del c # once reference count is down zero the object is deleted"
   ]
  },
  {
   "cell_type": "markdown",
   "id": "08c761cd-8f9a-4fe2-abb5-dcbc6d3e6b6f",
   "metadata": {},
   "source": [
    "The object is deleted when the reference count drops down to zero."
   ]
  },
  {
   "cell_type": "markdown",
   "id": "a6be240c-aa0c-4646-bfbc-171617d175bf",
   "metadata": {},
   "source": [
    "### a. Actions that make the reference count drop"
   ]
  },
  {
   "cell_type": "markdown",
   "id": "38ae1cd1-e4e4-41c3-8903-e3be4cd15ff6",
   "metadata": {},
   "source": [
    "**variable reassignement**"
   ]
  },
  {
   "cell_type": "code",
   "execution_count": 12,
   "id": "0ea26919-b22e-4706-b5f7-9ee09ab903d4",
   "metadata": {},
   "outputs": [],
   "source": [
    "l = C()"
   ]
  },
  {
   "cell_type": "code",
   "execution_count": 13,
   "id": "9fdbba03-3187-4be8-b063-ff753f5c0b13",
   "metadata": {},
   "outputs": [
    {
     "name": "stdout",
     "output_type": "stream",
     "text": [
      "<__main__.C object at 0x000001FD12078CE0> is deleted\n"
     ]
    }
   ],
   "source": [
    "l = 2"
   ]
  },
  {
   "cell_type": "markdown",
   "id": "dc4e54c0-47eb-4712-8436-e1a29f9518e1",
   "metadata": {},
   "source": [
    "**changing scope**"
   ]
  },
  {
   "cell_type": "code",
   "execution_count": 15,
   "id": "fd9b1eb9-9a4f-442f-960a-02b3b8113e4d",
   "metadata": {},
   "outputs": [],
   "source": [
    "def func():\n",
    "    l = C()"
   ]
  },
  {
   "cell_type": "code",
   "execution_count": 16,
   "id": "d9a14660-b363-42b9-8874-162d229df51d",
   "metadata": {},
   "outputs": [
    {
     "name": "stdout",
     "output_type": "stream",
     "text": [
      "<__main__.C object at 0x000001FD1379A5A0> is deleted\n"
     ]
    }
   ],
   "source": [
    "func()"
   ]
  },
  {
   "cell_type": "markdown",
   "id": "b1f0a490-b348-4538-bc37-1cc49afe7826",
   "metadata": {},
   "source": [
    "### b. Reference count with weak ref\n",
    "Using weakref does not increase the ref count to an object."
   ]
  },
  {
   "cell_type": "code",
   "execution_count": 18,
   "id": "599ff468-ded0-4041-8538-2a003e82535d",
   "metadata": {},
   "outputs": [],
   "source": [
    "import weakref"
   ]
  },
  {
   "cell_type": "code",
   "execution_count": 19,
   "id": "eb9e0a82-3e6b-4068-b9b2-f9834e74f987",
   "metadata": {},
   "outputs": [
    {
     "data": {
      "text/plain": [
       "2"
      ]
     },
     "execution_count": 19,
     "metadata": {},
     "output_type": "execute_result"
    }
   ],
   "source": [
    "c = C()\n",
    "sys.getrefcount(c)"
   ]
  },
  {
   "cell_type": "code",
   "execution_count": 20,
   "id": "7cb85246-e03b-4a9f-9dd9-493ef875918c",
   "metadata": {},
   "outputs": [
    {
     "data": {
      "text/plain": [
       "2"
      ]
     },
     "execution_count": 20,
     "metadata": {},
     "output_type": "execute_result"
    }
   ],
   "source": [
    "d = weakref.ref(c)\n",
    "sys.getrefcount(c)"
   ]
  },
  {
   "cell_type": "code",
   "execution_count": 21,
   "id": "1b614af1-924c-44a4-bb56-25ead05e0a33",
   "metadata": {},
   "outputs": [
    {
     "name": "stdout",
     "output_type": "stream",
     "text": [
      "<__main__.C object at 0x000001FD1114B080> is deleted\n"
     ]
    }
   ],
   "source": [
    "del c # ref is not increased"
   ]
  },
  {
   "cell_type": "markdown",
   "id": "81a86764-8359-4f9e-8ade-2248a657fc94",
   "metadata": {},
   "source": [
    "## II. Memory Management and Pitfalls\n",
    "When storing objects into a container like a list or a dictionary, the reference count is increased. Even though the object is deleted it is still stored in the dictionary."
   ]
  },
  {
   "cell_type": "code",
   "execution_count": 23,
   "id": "7b8fecb4-8d99-4244-b5f8-dc4d60f78cac",
   "metadata": {},
   "outputs": [],
   "source": [
    "class A:\n",
    "    def __del__(self):\n",
    "        print(f\"deleting {self}\")\n",
    "        del self"
   ]
  },
  {
   "cell_type": "markdown",
   "id": "b4140d83-41fd-4514-9c16-dc2457709c3a",
   "metadata": {},
   "source": [
    "### a. using standard reference"
   ]
  },
  {
   "cell_type": "code",
   "execution_count": 25,
   "id": "eb4aaf4e-833e-437c-9fbb-09957063d50d",
   "metadata": {},
   "outputs": [],
   "source": [
    "my_dict = {}\n",
    "a = A()\n",
    "my_dict = {'a': a}"
   ]
  },
  {
   "cell_type": "code",
   "execution_count": 26,
   "id": "7b2f0143-328b-4712-a4b1-ac6d0804327b",
   "metadata": {},
   "outputs": [],
   "source": [
    "del a"
   ]
  },
  {
   "cell_type": "code",
   "execution_count": 27,
   "id": "7a7cc0ac-c207-4af1-a436-43d1ca410862",
   "metadata": {},
   "outputs": [
    {
     "data": {
      "text/plain": [
       "{'a': <__main__.A at 0x1fd1114b080>}"
      ]
     },
     "execution_count": 27,
     "metadata": {},
     "output_type": "execute_result"
    }
   ],
   "source": [
    "my_dict"
   ]
  },
  {
   "cell_type": "code",
   "execution_count": 28,
   "id": "c1045c97-bbfc-4d1f-9f6b-6779179cfdaf",
   "metadata": {},
   "outputs": [
    {
     "name": "stdout",
     "output_type": "stream",
     "text": [
      "deleting <__main__.A object at 0x000001FD1114B080>\n"
     ]
    }
   ],
   "source": [
    "del my_dict['a']"
   ]
  },
  {
   "cell_type": "markdown",
   "id": "d7bb3b0f-eca8-428d-99e1-244cf3c7f21e",
   "metadata": {},
   "source": [
    "### b. using weak references"
   ]
  },
  {
   "cell_type": "code",
   "execution_count": 30,
   "id": "f0bb96d6-eae5-40ab-ac04-f45e499a3735",
   "metadata": {},
   "outputs": [],
   "source": [
    "my_dict = {}\n",
    "k = A()"
   ]
  },
  {
   "cell_type": "code",
   "execution_count": 31,
   "id": "59de5d98-9647-40fe-a75f-390294cede78",
   "metadata": {},
   "outputs": [],
   "source": [
    "my_dict = {'k': weakref.ref(k)}"
   ]
  },
  {
   "cell_type": "code",
   "execution_count": 32,
   "id": "6b0fd3fb-954d-422e-9e64-06d9a44762ed",
   "metadata": {},
   "outputs": [
    {
     "name": "stdout",
     "output_type": "stream",
     "text": [
      "deleting <__main__.A object at 0x000001FD11BC6480>\n"
     ]
    }
   ],
   "source": [
    "del k"
   ]
  },
  {
   "cell_type": "code",
   "execution_count": 33,
   "id": "192fe2e4-bede-4f92-8a51-3310d7ae936b",
   "metadata": {},
   "outputs": [
    {
     "data": {
      "text/plain": [
       "<weakref at 0x000001FD137ECC70; dead>"
      ]
     },
     "execution_count": 33,
     "metadata": {},
     "output_type": "execute_result"
    }
   ],
   "source": [
    "my_dict['k']"
   ]
  }
 ],
 "metadata": {
  "kernelspec": {
   "display_name": "Python 3 (ipykernel)",
   "language": "python",
   "name": "python3"
  },
  "language_info": {
   "codemirror_mode": {
    "name": "ipython",
    "version": 3
   },
   "file_extension": ".py",
   "mimetype": "text/x-python",
   "name": "python",
   "nbconvert_exporter": "python",
   "pygments_lexer": "ipython3",
   "version": "3.12.7"
  }
 },
 "nbformat": 4,
 "nbformat_minor": 5
}
