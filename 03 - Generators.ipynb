{
 "cells": [
  {
   "cell_type": "markdown",
   "id": "465e2c15-58cf-43fc-8d8a-2d588231c7f2",
   "metadata": {},
   "source": [
    "## Reproduce Common Generators\n",
    "Build common built-ins generators or from the itertool librairy"
   ]
  },
  {
   "cell_type": "code",
   "execution_count": 2,
   "id": "0044682e-9d42-439f-82e7-16530fa3aac8",
   "metadata": {},
   "outputs": [],
   "source": [
    "import itertools"
   ]
  },
  {
   "cell_type": "markdown",
   "id": "21b0fd7c-f7da-47e6-9126-07fc8b23c9e2",
   "metadata": {},
   "source": [
    "### 1. Filtering generators"
   ]
  },
  {
   "cell_type": "markdown",
   "id": "8f41e95b-277b-45df-8ad9-55e5eef99387",
   "metadata": {},
   "source": [
    "#### 1.a. filter"
   ]
  },
  {
   "cell_type": "code",
   "execution_count": 5,
   "id": "439fdac8-bd75-4d3d-905a-e6e82c722673",
   "metadata": {},
   "outputs": [],
   "source": [
    "def vowels(c):\n",
    "    return c.lower() in 'aeiou'"
   ]
  },
  {
   "cell_type": "code",
   "execution_count": 6,
   "id": "a57dab5a-bb58-498a-9e64-d160786475ab",
   "metadata": {},
   "outputs": [
    {
     "data": {
      "text/plain": [
       "['A', 'a', 'a']"
      ]
     },
     "execution_count": 6,
     "metadata": {},
     "output_type": "execute_result"
    }
   ],
   "source": [
    "list(filter(vowels, 'Aardvark'))"
   ]
  },
  {
   "cell_type": "code",
   "execution_count": 7,
   "id": "129fb316-a5ce-4857-83d4-ed8eb488c513",
   "metadata": {},
   "outputs": [],
   "source": [
    "def _filter(func, iterable):\n",
    "    index = 0\n",
    "    while index < len(iterable):\n",
    "        res = func(iterable[index])\n",
    "        if res:\n",
    "            yield iterable[index]\n",
    "        index += 1"
   ]
  },
  {
   "cell_type": "code",
   "execution_count": 8,
   "id": "a38abbab-139e-44da-9f6e-f648a47079e1",
   "metadata": {},
   "outputs": [
    {
     "data": {
      "text/plain": [
       "['A', 'a', 'a']"
      ]
     },
     "execution_count": 8,
     "metadata": {},
     "output_type": "execute_result"
    }
   ],
   "source": [
    "list(_filter(vowels, 'Aardvark'))"
   ]
  },
  {
   "cell_type": "markdown",
   "id": "a2dafff0-0aa5-4156-b05a-552d45431b1e",
   "metadata": {},
   "source": [
    "#### 2.a. dropwhile"
   ]
  },
  {
   "cell_type": "code",
   "execution_count": 10,
   "id": "28ce8cf0-24e8-4420-8be6-32d9d0e62bd7",
   "metadata": {},
   "outputs": [
    {
     "data": {
      "text/plain": [
       "['r', 'd', 'v', 'a', 'r', 'k']"
      ]
     },
     "execution_count": 10,
     "metadata": {},
     "output_type": "execute_result"
    }
   ],
   "source": [
    "list(itertools.dropwhile(vowels, 'Aardvark'))"
   ]
  },
  {
   "cell_type": "code",
   "execution_count": 11,
   "id": "3ff8fb64-1473-4973-aa88-8615385cb63a",
   "metadata": {},
   "outputs": [],
   "source": [
    "def _dropwhile(func, iterable):\n",
    "    i = 0\n",
    "    switch = 0\n",
    "    \n",
    "    while i < len(iterable):\n",
    "        \n",
    "        if not func(iterable[i]):\n",
    "            switch += 1\n",
    "            \n",
    "        if switch > 0:\n",
    "            yield iterable[i]\n",
    "        i += 1"
   ]
  },
  {
   "cell_type": "code",
   "execution_count": 12,
   "id": "f19279a5-30cd-499a-8a78-9c3ca5381750",
   "metadata": {},
   "outputs": [
    {
     "data": {
      "text/plain": [
       "['r', 'd', 'v', 'a', 'r', 'k']"
      ]
     },
     "execution_count": 12,
     "metadata": {},
     "output_type": "execute_result"
    }
   ],
   "source": [
    "list(_dropwhile(vowels, 'Aardvark'))"
   ]
  },
  {
   "cell_type": "markdown",
   "id": "bf9341f1-400f-492a-baea-abceb1a20c8c",
   "metadata": {},
   "source": [
    "#### 1.c. takewhile"
   ]
  },
  {
   "cell_type": "code",
   "execution_count": 14,
   "id": "16c0b7d1-fef3-4149-90dd-770da45390e7",
   "metadata": {},
   "outputs": [
    {
     "data": {
      "text/plain": [
       "['A', 'a']"
      ]
     },
     "execution_count": 14,
     "metadata": {},
     "output_type": "execute_result"
    }
   ],
   "source": [
    "list(itertools.takewhile(vowels, 'Aardvark'))"
   ]
  },
  {
   "cell_type": "code",
   "execution_count": 15,
   "id": "9c3d8bd3-ed0c-4ce3-9305-100487b65d95",
   "metadata": {},
   "outputs": [],
   "source": [
    "def _takewhile(func, iterable):\n",
    "    i = 0\n",
    "    switch = 0\n",
    "    \n",
    "    while i < len(iterable):\n",
    "        \n",
    "        if not func(iterable[i]):\n",
    "            switch += 1\n",
    "            \n",
    "        if switch < 1:\n",
    "            yield iterable[i]\n",
    "        i += 1"
   ]
  },
  {
   "cell_type": "code",
   "execution_count": 16,
   "id": "16e62eb2-6510-4f73-944f-eb3292886301",
   "metadata": {},
   "outputs": [
    {
     "data": {
      "text/plain": [
       "['A', 'a']"
      ]
     },
     "execution_count": 16,
     "metadata": {},
     "output_type": "execute_result"
    }
   ],
   "source": [
    "list(_takewhile(vowels, 'Aardvark'))"
   ]
  },
  {
   "cell_type": "markdown",
   "id": "09650203-32c6-4e48-9516-777a024a3369",
   "metadata": {},
   "source": [
    "#### 1.d. compress"
   ]
  },
  {
   "cell_type": "code",
   "execution_count": 18,
   "id": "85a12915-c1fe-4adb-bd65-42eb6907a44a",
   "metadata": {},
   "outputs": [
    {
     "data": {
      "text/plain": [
       "['A', 'r', 'd', 'a']"
      ]
     },
     "execution_count": 18,
     "metadata": {},
     "output_type": "execute_result"
    }
   ],
   "source": [
    "list(itertools.compress('Aardvark', (1,0,1,1,0,1)))"
   ]
  },
  {
   "cell_type": "code",
   "execution_count": 19,
   "id": "7f6daa63-ca7e-4045-88ee-266cf854a11f",
   "metadata": {},
   "outputs": [],
   "source": [
    "def _compress(iterable1, iterable2):\n",
    "    i = 0\n",
    "    n = min(len(iterable1), len(iterable2))\n",
    "    while i < n:\n",
    "        if iterable1[i] and iterable2[i]:\n",
    "            yield iterable1[i]\n",
    "        i+=1"
   ]
  },
  {
   "cell_type": "code",
   "execution_count": 20,
   "id": "8012bf04-04ab-4ebd-a079-30f02daaf2ab",
   "metadata": {},
   "outputs": [
    {
     "data": {
      "text/plain": [
       "['A', 'r', 'd', 'a']"
      ]
     },
     "execution_count": 20,
     "metadata": {},
     "output_type": "execute_result"
    }
   ],
   "source": [
    "list(_compress('Aardvark', (1,0,1,1,0,1)))"
   ]
  },
  {
   "cell_type": "markdown",
   "id": "3a517d58-07c9-45fc-8c3d-f822bc49fbda",
   "metadata": {},
   "source": [
    "### 2. Mapping Generator"
   ]
  },
  {
   "cell_type": "markdown",
   "id": "b53381de-245d-4ad1-acc6-ab19905de457",
   "metadata": {},
   "source": [
    "#### 2.a Accumulate"
   ]
  },
  {
   "cell_type": "code",
   "execution_count": 23,
   "id": "482acbbe-db6b-4d0e-b36b-8741a59ad77b",
   "metadata": {},
   "outputs": [],
   "source": [
    "sample = [5,4,2,8,7,6,3,0,9,1]"
   ]
  },
  {
   "cell_type": "code",
   "execution_count": 24,
   "id": "5e92fa8e-31b7-43fe-a601-8025d4f57c2b",
   "metadata": {},
   "outputs": [
    {
     "data": {
      "text/plain": [
       "[5, 9, 11, 19, 26, 32, 35, 35, 44, 45]"
      ]
     },
     "execution_count": 24,
     "metadata": {},
     "output_type": "execute_result"
    }
   ],
   "source": [
    "list(itertools.accumulate(sample))"
   ]
  },
  {
   "cell_type": "code",
   "execution_count": 25,
   "id": "f54186cf-acdc-4122-8f74-8f59e506f7c0",
   "metadata": {},
   "outputs": [
    {
     "data": {
      "text/plain": [
       "[5, 5, 5, 8, 8, 8, 8, 8, 9, 9]"
      ]
     },
     "execution_count": 25,
     "metadata": {},
     "output_type": "execute_result"
    }
   ],
   "source": [
    "list(itertools.accumulate(sample, max))"
   ]
  },
  {
   "cell_type": "code",
   "execution_count": 26,
   "id": "40a2b8c2-8211-47d8-96bd-a80694c1800b",
   "metadata": {},
   "outputs": [
    {
     "data": {
      "text/plain": [
       "[5, 4, 2, 2, 2, 2, 2, 0, 0, 0]"
      ]
     },
     "execution_count": 26,
     "metadata": {},
     "output_type": "execute_result"
    }
   ],
   "source": [
    "list(itertools.accumulate(sample, min))"
   ]
  },
  {
   "cell_type": "code",
   "execution_count": 27,
   "id": "1f7d5f26-a5dd-4065-9367-c16922492938",
   "metadata": {},
   "outputs": [],
   "source": [
    "def _accumulate(iterable, func=None):\n",
    "    i = 0\n",
    "    acc = iterable[i]\n",
    "    yield acc \n",
    "    while i < len(iterable)-1:\n",
    "        acc = func(acc, iterable[i+1])\n",
    "        yield acc\n",
    "        i += 1"
   ]
  },
  {
   "cell_type": "code",
   "execution_count": 28,
   "id": "43068ae7-84bf-4089-98aa-cc9264c98730",
   "metadata": {},
   "outputs": [],
   "source": [
    "import operator"
   ]
  },
  {
   "cell_type": "code",
   "execution_count": 29,
   "id": "c33cedc8-7e65-4351-baae-f8846fce68a9",
   "metadata": {},
   "outputs": [
    {
     "data": {
      "text/plain": [
       "[5, 9, 11, 19, 26, 32, 35, 35, 44, 45]"
      ]
     },
     "execution_count": 29,
     "metadata": {},
     "output_type": "execute_result"
    }
   ],
   "source": [
    "list(_accumulate(sample, operator.add))"
   ]
  },
  {
   "cell_type": "code",
   "execution_count": 30,
   "id": "905d3727-dfe4-4ed9-8008-bd567385be53",
   "metadata": {},
   "outputs": [
    {
     "data": {
      "text/plain": [
       "[5, 5, 5, 8, 8, 8, 8, 8, 9, 9]"
      ]
     },
     "execution_count": 30,
     "metadata": {},
     "output_type": "execute_result"
    }
   ],
   "source": [
    "list(_accumulate(sample, max))"
   ]
  },
  {
   "cell_type": "code",
   "execution_count": 31,
   "id": "2d345710-7ff5-4dbd-ad5c-7d0e145e84f9",
   "metadata": {},
   "outputs": [
    {
     "data": {
      "text/plain": [
       "[5, 4, 2, 2, 2, 2, 2, 0, 0, 0]"
      ]
     },
     "execution_count": 31,
     "metadata": {},
     "output_type": "execute_result"
    }
   ],
   "source": [
    "list(_accumulate(sample, min))"
   ]
  },
  {
   "cell_type": "code",
   "execution_count": 32,
   "id": "800cf319-39a7-4cb6-a052-0f1eefeb070d",
   "metadata": {},
   "outputs": [
    {
     "data": {
      "text/plain": [
       "[5, 20, 40, 320, 2240, 13440, 40320, 0, 0, 0]"
      ]
     },
     "execution_count": 32,
     "metadata": {},
     "output_type": "execute_result"
    }
   ],
   "source": [
    "list(_accumulate(sample, operator.mul))"
   ]
  },
  {
   "cell_type": "markdown",
   "id": "c862ae01-e98c-4429-a6c3-b1f8425ad66c",
   "metadata": {},
   "source": [
    "#### 2.b map"
   ]
  },
  {
   "cell_type": "code",
   "execution_count": 34,
   "id": "5b9780e6-d5f4-45d3-af86-d6580de46cc4",
   "metadata": {},
   "outputs": [
    {
     "data": {
      "text/plain": [
       "[0, 1, 4, 9, 16, 25, 36, 49, 64, 81, 100]"
      ]
     },
     "execution_count": 34,
     "metadata": {},
     "output_type": "execute_result"
    }
   ],
   "source": [
    "list(map(operator.mul, range(11), range(11)))"
   ]
  },
  {
   "cell_type": "code",
   "execution_count": 35,
   "id": "02ba718b-eb3b-41c2-9b9f-7aa0a906ed4c",
   "metadata": {},
   "outputs": [
    {
     "ename": "NameError",
     "evalue": "name '_map' is not defined",
     "output_type": "error",
     "traceback": [
      "\u001b[1;31m---------------------------------------------------------------------------\u001b[0m",
      "\u001b[1;31mNameError\u001b[0m                                 Traceback (most recent call last)",
      "Cell \u001b[1;32mIn[35], line 1\u001b[0m\n\u001b[1;32m----> 1\u001b[0m \u001b[38;5;28mlist\u001b[39m(\u001b[43m_map\u001b[49m(operator\u001b[38;5;241m.\u001b[39mmul, \u001b[38;5;28mrange\u001b[39m(\u001b[38;5;241m11\u001b[39m), [\u001b[38;5;241m2\u001b[39m,\u001b[38;5;241m4\u001b[39m,\u001b[38;5;241m8\u001b[39m]))\n",
      "\u001b[1;31mNameError\u001b[0m: name '_map' is not defined"
     ]
    }
   ],
   "source": [
    "list(_map(operator.mul, range(11), [2,4,8]))"
   ]
  },
  {
   "cell_type": "code",
   "execution_count": null,
   "id": "621fdb93-8a13-4b5e-810c-3889c36bfdbf",
   "metadata": {},
   "outputs": [],
   "source": [
    "list(_map(lambda a, b: (a,b), range(11), [2,4,8]))"
   ]
  },
  {
   "cell_type": "code",
   "execution_count": null,
   "id": "4b25b57a-064f-4ae5-b976-184d4ecaceaf",
   "metadata": {},
   "outputs": [],
   "source": [
    "def _map(func, *iterables):\n",
    "    i = 0\n",
    "    n = min(len(it) for it in iterables)\n",
    "    while i < n:\n",
    "        acc = iterables[0][i]\n",
    "        for it in iterables[1:]:\n",
    "            acc = func(acc, it[i])\n",
    "        yield acc\n",
    "        acc = 0\n",
    "        i+=1"
   ]
  },
  {
   "cell_type": "code",
   "execution_count": null,
   "id": "a59cbe5f-c0ec-4219-910a-5261993ae53d",
   "metadata": {},
   "outputs": [],
   "source": [
    "list(_map(operator.mul, range(11), range(11)))"
   ]
  },
  {
   "cell_type": "code",
   "execution_count": null,
   "id": "5079da2f-ed1e-454b-b80c-c7637ba4c54d",
   "metadata": {},
   "outputs": [],
   "source": [
    "list(_map(operator.mul, range(11), [2,4,8]))"
   ]
  },
  {
   "cell_type": "code",
   "execution_count": null,
   "id": "40317f37-7325-4db7-b861-3375563484ff",
   "metadata": {},
   "outputs": [],
   "source": [
    "list(_map(lambda a, b: (a,b) , range(11), [2,4,8]))"
   ]
  },
  {
   "cell_type": "markdown",
   "id": "ff598192-15bb-4c45-9cbd-e04cd248e17f",
   "metadata": {},
   "source": [
    "### 3. Merging Generator"
   ]
  },
  {
   "cell_type": "markdown",
   "id": "fa038484-3fe2-4fb3-8aff-4c9b8466d85c",
   "metadata": {},
   "source": [
    "#### 3.a Chain"
   ]
  },
  {
   "cell_type": "code",
   "execution_count": null,
   "id": "73bdea40-e960-4479-aa93-a3c333db9508",
   "metadata": {},
   "outputs": [],
   "source": [
    "list(itertools.chain('ABC', range(2)))"
   ]
  },
  {
   "cell_type": "code",
   "execution_count": null,
   "id": "ac1f65c1-e5cc-40b8-9fd6-d3175f45bc3a",
   "metadata": {},
   "outputs": [],
   "source": [
    "def _chain(*iterables):\n",
    "    for it in iterables:\n",
    "        i = 0\n",
    "        while i < len(it):\n",
    "            yield it[i]\n",
    "            i += 1"
   ]
  },
  {
   "cell_type": "code",
   "execution_count": null,
   "id": "ecdedaef-99cc-4f4c-abbf-282a09e65332",
   "metadata": {},
   "outputs": [],
   "source": [
    "list(_chain('ABC', range(2)))"
   ]
  },
  {
   "cell_type": "markdown",
   "id": "a8ebeff4-9cad-42ed-afa7-8e3dab2a620d",
   "metadata": {},
   "source": [
    "#### 3.b Zip_longest"
   ]
  },
  {
   "cell_type": "code",
   "execution_count": null,
   "id": "59c7deb4-525a-4a12-9cb4-90035f4ff737",
   "metadata": {},
   "outputs": [],
   "source": [
    "list(itertools.zip_longest('ABC', range(5), fillvalue='?'))"
   ]
  },
  {
   "cell_type": "code",
   "execution_count": null,
   "id": "a00172fa-ac62-446e-9002-fad5fea09994",
   "metadata": {},
   "outputs": [],
   "source": [
    "def _zip_longest(*iterables, fillvalue = None):\n",
    "    i = 0\n",
    "    n = max(len(it) for it in iterables)\n",
    "    while i < n:\n",
    "        res = []\n",
    "        for it in iterables:\n",
    "            try:\n",
    "                res.append(it[i])\n",
    "            except IndexError:\n",
    "                res.append(fillvalue)\n",
    "        yield tuple(res)\n",
    "        i+=1  "
   ]
  },
  {
   "cell_type": "code",
   "execution_count": null,
   "id": "9d257363-06b1-4fa0-be68-9c0d981388af",
   "metadata": {},
   "outputs": [],
   "source": [
    "list(_zip_longest('ABC', range(5), fillvalue='?'))"
   ]
  },
  {
   "cell_type": "code",
   "execution_count": null,
   "id": "c2256e35-2df7-40c2-9e7d-9480464e7a36",
   "metadata": {},
   "outputs": [],
   "source": []
  }
 ],
 "metadata": {
  "kernelspec": {
   "display_name": "Python [conda env:MLenv]",
   "language": "python",
   "name": "conda-env-MLenv-py"
  },
  "language_info": {
   "codemirror_mode": {
    "name": "ipython",
    "version": 3
   },
   "file_extension": ".py",
   "mimetype": "text/x-python",
   "name": "python",
   "nbconvert_exporter": "python",
   "pygments_lexer": "ipython3",
   "version": "3.9.21"
  }
 },
 "nbformat": 4,
 "nbformat_minor": 5
}
