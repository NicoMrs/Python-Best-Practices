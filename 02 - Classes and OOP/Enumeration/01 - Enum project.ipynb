{
 "cells": [
  {
   "cell_type": "markdown",
   "id": "60dbae4a-cea0-453c-a804-760c3cf69732",
   "metadata": {},
   "source": [
    "# Enumeration Project\n",
    "\n",
    "Create a single enumeration that could keep track of exceptions throughout our code. "
   ]
  },
  {
   "cell_type": "code",
   "execution_count": 1,
   "id": "54f57de6-6935-4420-8b11-2c8f4f5efad9",
   "metadata": {},
   "outputs": [],
   "source": [
    "from enum import Enum, unique"
   ]
  },
  {
   "cell_type": "code",
   "execution_count": 2,
   "id": "46f9ea6c-2740-4c80-9d43-d136d58d7b1f",
   "metadata": {},
   "outputs": [],
   "source": [
    "class BaseException(Enum):\n",
    "\n",
    "    # tweak instantiation to add attribute\n",
    "    def __new__(cls, code, default_message, exception_type):\n",
    "        instance = object().__new__(cls)\n",
    "        instance._value_ = code\n",
    "        instance.message = default_message\n",
    "        instance.exception = exception_type\n",
    "        return instance\n",
    "\n",
    "    @property\n",
    "    def code(self):\n",
    "        return self.value\n",
    "    \n",
    "    def throw(self, custom_message=None):\n",
    "        message = custom_message if custom_message is not None else self.message\n",
    "        raise self.exception(f'{self.code} - {message}')"
   ]
  },
  {
   "cell_type": "code",
   "execution_count": 3,
   "id": "018b8fe6-7644-4c1b-9e59-c7ecae668325",
   "metadata": {},
   "outputs": [],
   "source": [
    "@unique # we ensure that we have no aliases\n",
    "class AppException(BaseException):\n",
    "    NotAnInteger = 100, 'Value is not an integer.', ValueError\n",
    "    NotAList = 101, 'Value is not a list.', ValueError\n",
    "    Timeout = 200, 'Timeout', TimeoutError"
   ]
  },
  {
   "cell_type": "markdown",
   "id": "76a249c2-fe0b-4e74-ae6e-9b1b12233e1b",
   "metadata": {},
   "source": [
    "### Examples"
   ]
  },
  {
   "cell_type": "code",
   "execution_count": 4,
   "id": "634b1e9a-e036-45f8-9831-bbe0a0c2d612",
   "metadata": {},
   "outputs": [
    {
     "data": {
      "text/plain": [
       "(<AppException.NotAnInteger: 100>, 'Value is not an integer.')"
      ]
     },
     "execution_count": 4,
     "metadata": {},
     "output_type": "execute_result"
    }
   ],
   "source": [
    "AppException.NotAnInteger, AppException.NotAnInteger.message"
   ]
  },
  {
   "cell_type": "code",
   "execution_count": 5,
   "id": "3f31eae7-c24b-42ee-a573-9d71c3c790af",
   "metadata": {},
   "outputs": [
    {
     "data": {
      "text/plain": [
       "('Value is not an integer.', ValueError)"
      ]
     },
     "execution_count": 5,
     "metadata": {},
     "output_type": "execute_result"
    }
   ],
   "source": [
    "AppException.NotAnInteger.message, AppException.NotAnInteger.exception"
   ]
  },
  {
   "cell_type": "code",
   "execution_count": 6,
   "id": "c0beceaf-9bbf-4100-9061-ccad746abef4",
   "metadata": {},
   "outputs": [
    {
     "data": {
      "text/plain": [
       "(<AppException.NotAnInteger: 100>, <AppException.NotAnInteger: 100>)"
      ]
     },
     "execution_count": 6,
     "metadata": {},
     "output_type": "execute_result"
    }
   ],
   "source": [
    "AppException(100), AppException['NotAnInteger']"
   ]
  },
  {
   "cell_type": "code",
   "execution_count": 7,
   "id": "ba1f7182-65d1-4c6c-a56d-e1bae1ece449",
   "metadata": {},
   "outputs": [
    {
     "name": "stdout",
     "output_type": "stream",
     "text": [
      "100 - Value is not an integer.\n"
     ]
    }
   ],
   "source": [
    "try:\n",
    "    AppException.NotAnInteger.throw()\n",
    "except ValueError as err:\n",
    "    print(err)"
   ]
  },
  {
   "cell_type": "code",
   "execution_count": 8,
   "id": "5e68e88d-7c00-48cb-a5e0-a01e6005b0b9",
   "metadata": {},
   "outputs": [
    {
     "name": "stdout",
     "output_type": "stream",
     "text": [
      "100 - My custom message.\n"
     ]
    }
   ],
   "source": [
    "try:\n",
    "    AppException.NotAnInteger.throw('My custom message.')\n",
    "except ValueError as err:\n",
    "    print(err)"
   ]
  },
  {
   "cell_type": "code",
   "execution_count": 9,
   "id": "28c56dc8-7c76-44d0-86c2-0807c360d246",
   "metadata": {},
   "outputs": [
    {
     "name": "stdout",
     "output_type": "stream",
     "text": [
      "200 - Timeout\n"
     ]
    }
   ],
   "source": [
    "try:\n",
    "    AppException(200).throw()\n",
    "except TimeoutError as err:\n",
    "    print(err)"
   ]
  },
  {
   "cell_type": "code",
   "execution_count": 10,
   "id": "04f3754b-ec23-4404-9f64-f848cee7aafa",
   "metadata": {},
   "outputs": [
    {
     "data": {
      "text/plain": [
       "[<AppException.NotAnInteger: 100>,\n",
       " <AppException.NotAList: 101>,\n",
       " <AppException.Timeout: 200>]"
      ]
     },
     "execution_count": 10,
     "metadata": {},
     "output_type": "execute_result"
    }
   ],
   "source": [
    "list(AppException)"
   ]
  },
  {
   "cell_type": "code",
   "execution_count": 15,
   "id": "e7d5e1a4-378b-461e-83f7-84f4ecf41d94",
   "metadata": {},
   "outputs": [
    {
     "data": {
      "text/plain": [
       "[('NotAnInteger', 100, 'ValueError'),\n",
       " ('NotAList', 101, 'ValueError'),\n",
       " ('Timeout', 200, 'TimeoutError')]"
      ]
     },
     "execution_count": 15,
     "metadata": {},
     "output_type": "execute_result"
    }
   ],
   "source": [
    "[(ex.name, ex.code, ex.exception.__name__) for ex in AppException]"
   ]
  },
  {
   "cell_type": "code",
   "execution_count": null,
   "id": "6c54a6af-de57-4890-b444-52609c7588e4",
   "metadata": {},
   "outputs": [],
   "source": []
  }
 ],
 "metadata": {
  "kernelspec": {
   "display_name": "Python 3 (ipykernel)",
   "language": "python",
   "name": "python3"
  },
  "language_info": {
   "codemirror_mode": {
    "name": "ipython",
    "version": 3
   },
   "file_extension": ".py",
   "mimetype": "text/x-python",
   "name": "python",
   "nbconvert_exporter": "python",
   "pygments_lexer": "ipython3",
   "version": "3.12.7"
  }
 },
 "nbformat": 4,
 "nbformat_minor": 5
}
