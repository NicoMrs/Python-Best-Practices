{
 "cells": [
  {
   "cell_type": "markdown",
   "id": "aa80d56f-f5f7-410d-89ea-f2d3b112afb9",
   "metadata": {},
   "source": [
    "# Decorators\n",
    "This notebook covers tips on decorator and particularly on how to integrate them into class definition."
   ]
  },
  {
   "cell_type": "markdown",
   "id": "b84aaa08-32c7-4d98-9189-a5c30c6da474",
   "metadata": {},
   "source": [
    "### 1. Recall decorator definition"
   ]
  },
  {
   "cell_type": "markdown",
   "id": "523bb1a5-3c0e-416a-82aa-0965d8deefcd",
   "metadata": {},
   "source": [
    "#### a. Simple decorator"
   ]
  },
  {
   "cell_type": "code",
   "execution_count": 4,
   "id": "209a8790-2c3b-4bc5-a4d9-8b84ed51341e",
   "metadata": {},
   "outputs": [],
   "source": [
    "def my_func(*args):\n",
    "    print(*args)"
   ]
  },
  {
   "cell_type": "code",
   "execution_count": 5,
   "id": "d4f9cd8d-7cb2-4ac5-baed-b430c76e53ae",
   "metadata": {},
   "outputs": [],
   "source": [
    "def decorator(func):\n",
    "    def inner(*args):\n",
    "        print(\"has been decorated\")\n",
    "        return func(*args)\n",
    "    return inner"
   ]
  },
  {
   "cell_type": "code",
   "execution_count": 6,
   "id": "cb5d3c91-0640-422e-9502-8bd450e272fa",
   "metadata": {},
   "outputs": [
    {
     "data": {
      "text/plain": [
       "<function __main__.decorator.<locals>.inner(*args)>"
      ]
     },
     "execution_count": 6,
     "metadata": {},
     "output_type": "execute_result"
    }
   ],
   "source": [
    "decorated_func = decorator(my_func)\n",
    "decorated_func # return a inner function which takes *args as argument"
   ]
  },
  {
   "cell_type": "code",
   "execution_count": 7,
   "id": "9ddb181f-4ad4-4e65-8d01-f2a500d4808e",
   "metadata": {},
   "outputs": [
    {
     "name": "stdout",
     "output_type": "stream",
     "text": [
      "has been decorated\n",
      "1 2 3\n"
     ]
    }
   ],
   "source": [
    "decorated_func(1,2,3)"
   ]
  },
  {
   "cell_type": "code",
   "execution_count": 8,
   "id": "69fdcf1c-b941-4b2c-a3cb-0d3efa6accf4",
   "metadata": {},
   "outputs": [],
   "source": [
    "# using syntactic sugar\n",
    "@decorator\n",
    "def my_func(*args):\n",
    "    print(*args)"
   ]
  },
  {
   "cell_type": "code",
   "execution_count": 9,
   "id": "0fff5d23-3092-4dc8-b91b-9c93ed500eea",
   "metadata": {},
   "outputs": [
    {
     "name": "stdout",
     "output_type": "stream",
     "text": [
      "has been decorated\n",
      "1 2\n"
     ]
    }
   ],
   "source": [
    "my_func(1,2)"
   ]
  },
  {
   "cell_type": "markdown",
   "id": "2c7e9cf8-cd0a-4d2d-a507-8226e0b0fbbe",
   "metadata": {},
   "source": [
    "#### b. Decorator factory"
   ]
  },
  {
   "cell_type": "code",
   "execution_count": 11,
   "id": "f7bd17bb-7061-48b8-aa55-d2c9ae451344",
   "metadata": {},
   "outputs": [],
   "source": [
    "def my_func(*args):\n",
    "    print(*args)"
   ]
  },
  {
   "cell_type": "code",
   "execution_count": 12,
   "id": "32fadfa2-3d08-4da5-a225-4319ed4f0312",
   "metadata": {},
   "outputs": [],
   "source": [
    "def decorator_with_param(param):\n",
    "    def decorator(func):\n",
    "        def inner(*args):\n",
    "            print(f\"has been decorated with {param}\")\n",
    "            return func(*args)\n",
    "        return inner\n",
    "    return decorator"
   ]
  },
  {
   "cell_type": "code",
   "execution_count": 13,
   "id": "64f65dc4-c8a4-448c-8306-ad58f2df5572",
   "metadata": {},
   "outputs": [
    {
     "data": {
      "text/plain": [
       "<function __main__.decorator_with_param.<locals>.decorator(func)>"
      ]
     },
     "execution_count": 13,
     "metadata": {},
     "output_type": "execute_result"
    }
   ],
   "source": [
    "decorator = decorator_with_param(\"my param\")\n",
    "decorator # return a decorator function"
   ]
  },
  {
   "cell_type": "code",
   "execution_count": 14,
   "id": "ba648904-f649-499d-880b-74c74c93b6f5",
   "metadata": {},
   "outputs": [
    {
     "data": {
      "text/plain": [
       "<function __main__.decorator_with_param.<locals>.decorator.<locals>.inner(*args)>"
      ]
     },
     "execution_count": 14,
     "metadata": {},
     "output_type": "execute_result"
    }
   ],
   "source": [
    "decorated_func = decorator(my_func)\n",
    "decorated_func # return inner function which in turns can take *args as arguments"
   ]
  },
  {
   "cell_type": "code",
   "execution_count": 15,
   "id": "ab55e771-dc2c-483c-89fb-964558d9986e",
   "metadata": {},
   "outputs": [
    {
     "name": "stdout",
     "output_type": "stream",
     "text": [
      "has been decorated with my param\n",
      "1 2 3 4 5\n"
     ]
    }
   ],
   "source": [
    "decorated_func(1,2,3,4,5)"
   ]
  },
  {
   "cell_type": "code",
   "execution_count": 16,
   "id": "2c5bdcbe-fb63-4464-999c-b9660ad6bdab",
   "metadata": {},
   "outputs": [],
   "source": [
    "# using syntactic sugar\n",
    "@decorator_with_param(\"my param\")\n",
    "def my_func(*args):\n",
    "    print(*args)"
   ]
  },
  {
   "cell_type": "code",
   "execution_count": 17,
   "id": "64c2b8cc-30e8-4464-a6e7-6264327ecf30",
   "metadata": {},
   "outputs": [
    {
     "name": "stdout",
     "output_type": "stream",
     "text": [
      "has been decorated with my param\n",
      "1 2 3 4 5 6\n"
     ]
    }
   ],
   "source": [
    "my_func(1,2,3,4,5,6)"
   ]
  },
  {
   "cell_type": "markdown",
   "id": "58ce9677-6328-4338-b8f9-963391438429",
   "metadata": {},
   "source": [
    "### 2. Integrate decorator within classes"
   ]
  },
  {
   "cell_type": "code",
   "execution_count": 19,
   "id": "1dd8d13f-554e-4d2c-8d42-36bbd4d7a057",
   "metadata": {},
   "outputs": [],
   "source": [
    "# decorator can also be called outside the class scope\n",
    "def outside_decorator(func):\n",
    "    def inner(my_class_object, *args):\n",
    "        print(\"outside decorator\", (my_class_object.value))\n",
    "        func(my_class_object, *args)\n",
    "    return inner"
   ]
  },
  {
   "cell_type": "code",
   "execution_count": 20,
   "id": "b4329eac-c8d2-4376-8a17-526304bb8db6",
   "metadata": {},
   "outputs": [],
   "source": [
    "class MyClass:\n",
    "\n",
    "    def __init__(self, value):\n",
    "        self.value = value\n",
    "\n",
    "    def decorator(func):\n",
    "        def inner(self, *args):\n",
    "            print(\"decorated\", self.value)\n",
    "            func(self, *args)\n",
    "        return inner\n",
    "\n",
    "    def get_value(self):\n",
    "        print(self.value)\n",
    "\n",
    "    # decorator can be called within the class space because no ref call like a.decorator\n",
    "    decorated_func = decorator(get_value)\n",
    "\n",
    "    @decorator\n",
    "    def get_value2(self):\n",
    "        print(self.value)\n",
    "\n",
    "    @outside_decorator\n",
    "    def get_value3(self):\n",
    "        print(self.value)\n",
    "\n",
    "    def test():\n",
    "        print('test')\n",
    "\n",
    "    @staticmethod\n",
    "    def test2():\n",
    "        print('test')"
   ]
  },
  {
   "cell_type": "code",
   "execution_count": 21,
   "id": "0c539a26-6239-4373-acbd-9fbf93d59f7e",
   "metadata": {},
   "outputs": [],
   "source": [
    "a = MyClass(\"a\")"
   ]
  },
  {
   "cell_type": "code",
   "execution_count": 22,
   "id": "cb78a609-87c8-4c88-a0fb-aeb8806f1700",
   "metadata": {},
   "outputs": [
    {
     "name": "stdout",
     "output_type": "stream",
     "text": [
      "a\n"
     ]
    }
   ],
   "source": [
    "a.get_value()"
   ]
  },
  {
   "cell_type": "code",
   "execution_count": 23,
   "id": "63425b68-5374-486b-942e-6f226cf87142",
   "metadata": {},
   "outputs": [
    {
     "name": "stdout",
     "output_type": "stream",
     "text": [
      "decorated a\n",
      "a\n"
     ]
    }
   ],
   "source": [
    "a.decorated_func()"
   ]
  },
  {
   "cell_type": "code",
   "execution_count": 24,
   "id": "9309a81b-1b81-485f-999d-c488e7eaaf2b",
   "metadata": {},
   "outputs": [
    {
     "name": "stdout",
     "output_type": "stream",
     "text": [
      "decorated a\n",
      "a\n"
     ]
    }
   ],
   "source": [
    "a.get_value2()"
   ]
  },
  {
   "cell_type": "code",
   "execution_count": 25,
   "id": "c483b7b9-3728-4ba4-a7b6-16fdd18e28ac",
   "metadata": {},
   "outputs": [
    {
     "name": "stdout",
     "output_type": "stream",
     "text": [
      "outside decorator a\n",
      "a\n"
     ]
    }
   ],
   "source": [
    "a.get_value3()"
   ]
  },
  {
   "cell_type": "code",
   "execution_count": 26,
   "id": "dc3c9982-90c2-4084-b1b7-366ee95e9482",
   "metadata": {},
   "outputs": [
    {
     "data": {
      "text/plain": [
       "{'value': 'a'}"
      ]
     },
     "execution_count": 26,
     "metadata": {},
     "output_type": "execute_result"
    }
   ],
   "source": [
    "a.__dict__"
   ]
  },
  {
   "cell_type": "code",
   "execution_count": 27,
   "id": "88e320f5-f931-43e5-97e6-a939801d7bb0",
   "metadata": {},
   "outputs": [
    {
     "data": {
      "text/plain": [
       "mappingproxy({'__module__': '__main__',\n",
       "              '__init__': <function __main__.MyClass.__init__(self, value)>,\n",
       "              'decorator': <function __main__.MyClass.decorator(func)>,\n",
       "              'get_value': <function __main__.MyClass.get_value(self)>,\n",
       "              'decorated_func': <function __main__.MyClass.decorator.<locals>.inner(self, *args)>,\n",
       "              'get_value2': <function __main__.MyClass.decorator.<locals>.inner(self, *args)>,\n",
       "              'get_value3': <function __main__.outside_decorator.<locals>.inner(my_class_object, *args)>,\n",
       "              'test': <function __main__.MyClass.test()>,\n",
       "              'test2': <staticmethod(<function MyClass.test2 at 0x000001A5DA091580>)>,\n",
       "              '__dict__': <attribute '__dict__' of 'MyClass' objects>,\n",
       "              '__weakref__': <attribute '__weakref__' of 'MyClass' objects>,\n",
       "              '__doc__': None})"
      ]
     },
     "execution_count": 27,
     "metadata": {},
     "output_type": "execute_result"
    }
   ],
   "source": [
    "MyClass.__dict__ # decorator is in the class namesapce"
   ]
  },
  {
   "cell_type": "code",
   "execution_count": 28,
   "id": "3b100877-a047-4bb9-95d7-c60a6f4d473a",
   "metadata": {},
   "outputs": [
    {
     "data": {
      "text/plain": [
       "<function __main__.MyClass.decorator(func)>"
      ]
     },
     "execution_count": 28,
     "metadata": {},
     "output_type": "execute_result"
    }
   ],
   "source": [
    "MyClass.decorator"
   ]
  },
  {
   "cell_type": "code",
   "execution_count": 29,
   "id": "491bd5ac-bd71-466e-a4fc-45c84969c81e",
   "metadata": {},
   "outputs": [
    {
     "data": {
      "text/plain": [
       "<function __main__.MyClass.get_value(self)>"
      ]
     },
     "execution_count": 29,
     "metadata": {},
     "output_type": "execute_result"
    }
   ],
   "source": [
    "MyClass.get_value"
   ]
  },
  {
   "cell_type": "code",
   "execution_count": 30,
   "id": "5d293b03-d8ca-4dff-9cc1-ee07d707acb3",
   "metadata": {},
   "outputs": [
    {
     "name": "stdout",
     "output_type": "stream",
     "text": [
      "MyClass.test() takes 0 positional arguments but 1 was given\n"
     ]
    }
   ],
   "source": [
    "# A function within the class name space without ref to self cannot be called\n",
    "# Indeed when calling a.test() Python automatically pass a to test -> test(a) \n",
    "# But if there is no args in test signature then there will be a missing argument\n",
    "try:\n",
    "    t = a.test\n",
    "    t()\n",
    "except TypeError as err:\n",
    "    print(err)"
   ]
  },
  {
   "cell_type": "code",
   "execution_count": 31,
   "id": "373a83ed-05b8-4cb2-a9cc-9e05395ae9c3",
   "metadata": {},
   "outputs": [
    {
     "name": "stdout",
     "output_type": "stream",
     "text": [
      "test\n"
     ]
    }
   ],
   "source": [
    "# however with the @staticmethod decorator, that will work because a is not passed as argument\n",
    "t = a.test2\n",
    "t()"
   ]
  },
  {
   "cell_type": "code",
   "execution_count": 32,
   "id": "1326f756-a6f7-4189-969c-ef2ff35d5c41",
   "metadata": {},
   "outputs": [
    {
     "name": "stdout",
     "output_type": "stream",
     "text": [
      "test\n"
     ]
    }
   ],
   "source": [
    "# However test can be called from MyClass because \n",
    "MyClass.test()"
   ]
  },
  {
   "cell_type": "code",
   "execution_count": 33,
   "id": "c028f070-d37f-4f9d-a1ee-2ec9dfba2ed4",
   "metadata": {},
   "outputs": [
    {
     "name": "stdout",
     "output_type": "stream",
     "text": [
      "outside decorator b\n",
      "b (1, 2, 3)\n"
     ]
    }
   ],
   "source": [
    "# func can be decorated with a regular decorator\n",
    "b = MyClass(\"b\")\n",
    "\n",
    "@outside_decorator\n",
    "def func(obj, *args):\n",
    "    print(obj.value, args)\n",
    "\n",
    "func(b, 1,2,3)"
   ]
  },
  {
   "cell_type": "code",
   "execution_count": 34,
   "id": "5631dfa9-9d9c-41e3-bae1-763d255f725a",
   "metadata": {},
   "outputs": [
    {
     "data": {
      "text/plain": [
       "<function __main__.MyClass.decorator(func)>"
      ]
     },
     "execution_count": 34,
     "metadata": {},
     "output_type": "execute_result"
    }
   ],
   "source": [
    "# it can also be decorated with deco which is retrieved from MyClass\n",
    "deco = MyClass.decorator\n",
    "deco"
   ]
  },
  {
   "cell_type": "code",
   "execution_count": 35,
   "id": "ae2fe300-e2e4-4d77-ab6e-c52e4d92ce41",
   "metadata": {},
   "outputs": [
    {
     "name": "stdout",
     "output_type": "stream",
     "text": [
      "decorated b\n",
      "b (1, 2, 3)\n"
     ]
    }
   ],
   "source": [
    "@deco\n",
    "def func(obj, *args):\n",
    "    print(obj.value, args)\n",
    "\n",
    "func(b, 1,2,3)"
   ]
  }
 ],
 "metadata": {
  "kernelspec": {
   "display_name": "Python 3 (ipykernel)",
   "language": "python",
   "name": "python3"
  },
  "language_info": {
   "codemirror_mode": {
    "name": "ipython",
    "version": 3
   },
   "file_extension": ".py",
   "mimetype": "text/x-python",
   "name": "python",
   "nbconvert_exporter": "python",
   "pygments_lexer": "ipython3",
   "version": "3.12.7"
  }
 },
 "nbformat": 4,
 "nbformat_minor": 5
}
