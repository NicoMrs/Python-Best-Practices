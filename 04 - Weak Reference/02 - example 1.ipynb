{
 "cells": [
  {
   "cell_type": "code",
   "execution_count": 1,
   "id": "5b54c74b-672f-4200-9e79-2ae8a1064915",
   "metadata": {},
   "outputs": [],
   "source": [
    "import weakref"
   ]
  },
  {
   "cell_type": "markdown",
   "id": "95a5120f-eb4c-428b-a643-2c15ff81028e",
   "metadata": {},
   "source": [
    "# Creating a cache\n",
    "We simulate the creation of a complex object that we want to store in a cache for as long as we need it."
   ]
  },
  {
   "cell_type": "markdown",
   "id": "bd98d1af-a9a1-420f-a5e5-42c948d44328",
   "metadata": {},
   "source": [
    "### Basic cache"
   ]
  },
  {
   "cell_type": "code",
   "execution_count": 4,
   "id": "eaeabe13-d8f2-4aea-b466-4c6b7895edf2",
   "metadata": {},
   "outputs": [],
   "source": [
    "class ComplexObject:\n",
    "\n",
    "    _cache = {}\n",
    "    \n",
    "    def __new__(self, _id):\n",
    "        \n",
    "        obj = ComplexObject._cache.get(_id, None)\n",
    "        \n",
    "        if obj:\n",
    "            print(f\"{obj} found in cache!\")\n",
    "        else:\n",
    "            obj = super().__new__(self)\n",
    "            obj._id = _id\n",
    "            print(f\"{obj} not found in cache, created!\")\n",
    "            self._cache[_id] = obj\n",
    "        \n",
    "        return self._cache[_id]\n",
    "    \n",
    "    def __repr__(self):\n",
    "        return f\"{type(self).__name__}(_id={self._id})\"\n",
    "\n",
    "    def __del__(self):\n",
    "        print(f\"{self} deleted\")"
   ]
  },
  {
   "cell_type": "code",
   "execution_count": 5,
   "id": "d990e2fd-bed9-4f70-9ee0-908b75a0a964",
   "metadata": {},
   "outputs": [
    {
     "data": {
      "text/plain": [
       "{}"
      ]
     },
     "execution_count": 5,
     "metadata": {},
     "output_type": "execute_result"
    }
   ],
   "source": [
    "ComplexObject._cache"
   ]
  },
  {
   "cell_type": "code",
   "execution_count": 6,
   "id": "cdba0789-5fb0-4e89-823f-d64c77f13814",
   "metadata": {},
   "outputs": [
    {
     "name": "stdout",
     "output_type": "stream",
     "text": [
      "ComplexObject(_id=1) not found in cache, created!\n"
     ]
    }
   ],
   "source": [
    "o1 = ComplexObject(1)"
   ]
  },
  {
   "cell_type": "code",
   "execution_count": 7,
   "id": "633b9da0-67bc-4842-9d36-72788872fe85",
   "metadata": {},
   "outputs": [
    {
     "data": {
      "text/plain": [
       "{1: ComplexObject(_id=1)}"
      ]
     },
     "execution_count": 7,
     "metadata": {},
     "output_type": "execute_result"
    }
   ],
   "source": [
    "ComplexObject._cache"
   ]
  },
  {
   "cell_type": "code",
   "execution_count": 8,
   "id": "f26cce3f-8947-4523-8757-163c55e62b7d",
   "metadata": {},
   "outputs": [
    {
     "name": "stdout",
     "output_type": "stream",
     "text": [
      "ComplexObject(_id=1) found in cache!\n"
     ]
    }
   ],
   "source": [
    "_o1 = ComplexObject(1)"
   ]
  },
  {
   "cell_type": "code",
   "execution_count": 9,
   "id": "24cb56b1-d63b-43ed-b354-26f2984865ad",
   "metadata": {},
   "outputs": [
    {
     "data": {
      "text/plain": [
       "True"
      ]
     },
     "execution_count": 9,
     "metadata": {},
     "output_type": "execute_result"
    }
   ],
   "source": [
    "o1 is _o1"
   ]
  },
  {
   "cell_type": "code",
   "execution_count": 10,
   "id": "35afe16e-b321-4b9b-8fc0-94d4333e7942",
   "metadata": {},
   "outputs": [],
   "source": [
    "del o1 # object is not deleted because there is stiil a reference in the cache"
   ]
  },
  {
   "cell_type": "code",
   "execution_count": 11,
   "id": "c7ab46c2-a819-4840-9d93-cd3abe7a1846",
   "metadata": {},
   "outputs": [],
   "source": [
    "del _o1"
   ]
  },
  {
   "cell_type": "code",
   "execution_count": 12,
   "id": "023a327c-4d63-44ba-947f-3c99593dc7c1",
   "metadata": {},
   "outputs": [
    {
     "data": {
      "text/plain": [
       "{1: ComplexObject(_id=1)}"
      ]
     },
     "execution_count": 12,
     "metadata": {},
     "output_type": "execute_result"
    }
   ],
   "source": [
    "ComplexObject._cache"
   ]
  },
  {
   "cell_type": "markdown",
   "id": "478c856a-14f0-4aff-b837-cfe6f6c47f87",
   "metadata": {},
   "source": [
    "The object is not deleted because a reference still exist in the cache."
   ]
  },
  {
   "cell_type": "markdown",
   "id": "c8f4d6bb-406f-4612-956b-7f9954f80c06",
   "metadata": {},
   "source": [
    "### Cache with weak references\n",
    "In this example, only a weak ref of the object is stored in the dictionary. But when instantiated, hard ref are returned"
   ]
  },
  {
   "cell_type": "code",
   "execution_count": 15,
   "id": "6b44019c-7812-4ed6-895a-cbaedf0c9a51",
   "metadata": {},
   "outputs": [],
   "source": [
    "class WRComplexObject:\n",
    "\n",
    "    _cache = {}\n",
    "    \n",
    "    def __new__(self, _id):\n",
    "        \n",
    "        obj = WRComplexObject._cache.get(_id, None)\n",
    "\n",
    "        # instantiate the object and store a weak ref in the dictionary\n",
    "        # return a hard ref to the object\n",
    "        if not obj:\n",
    "            \n",
    "            obj = super().__new__(self)\n",
    "            obj._id = _id\n",
    "            print(f\"{obj} not found in cache, created!\")\n",
    "            \n",
    "            self._cache[_id] = weakref.ref(obj)\n",
    "            return obj\n",
    "        \n",
    "        # access object through its weak ref\n",
    "        # return a hard ref to the object through weakref.ref()\n",
    "        else:\n",
    "            print(f\"{obj()} found in cache!\")\n",
    "            obj = self._cache[_id]\n",
    "            return self._cache[_id]()\n",
    "    \n",
    "    def __repr__(self):\n",
    "        return f\"{type(self).__name__}(_id={self._id})\"\n",
    "\n",
    "    def __del__(self):\n",
    "        print(f\"{self} deleted\")\n",
    "        # print(f\"clear cache\")\n",
    "        # del WRComplexObject[self._id]"
   ]
  },
  {
   "cell_type": "code",
   "execution_count": 16,
   "id": "9e2055f1-9146-4aed-83ea-5bc4157fe0ba",
   "metadata": {},
   "outputs": [
    {
     "data": {
      "text/plain": [
       "{}"
      ]
     },
     "execution_count": 16,
     "metadata": {},
     "output_type": "execute_result"
    }
   ],
   "source": [
    "WRComplexObject._cache"
   ]
  },
  {
   "cell_type": "code",
   "execution_count": 17,
   "id": "fc47bd55-2cdd-4c6f-86eb-fa1e6e80b005",
   "metadata": {},
   "outputs": [
    {
     "name": "stdout",
     "output_type": "stream",
     "text": [
      "WRComplexObject(_id=1) not found in cache, created!\n"
     ]
    }
   ],
   "source": [
    "w1 = WRComplexObject(1)"
   ]
  },
  {
   "cell_type": "code",
   "execution_count": 18,
   "id": "e0c8f50b-1e25-4e4d-9912-6c671ac642c5",
   "metadata": {},
   "outputs": [
    {
     "data": {
      "text/plain": [
       "{1: <weakref at 0x00000239E5445260; to 'WRComplexObject' at 0x00000239E4F50080>}"
      ]
     },
     "execution_count": 18,
     "metadata": {},
     "output_type": "execute_result"
    }
   ],
   "source": [
    "WRComplexObject._cache"
   ]
  },
  {
   "cell_type": "code",
   "execution_count": 19,
   "id": "1ef7ea22-9058-4d61-ae15-0e85f84fbb63",
   "metadata": {},
   "outputs": [
    {
     "name": "stdout",
     "output_type": "stream",
     "text": [
      "WRComplexObject(_id=1) found in cache!\n"
     ]
    }
   ],
   "source": [
    "_w1 = WRComplexObject(1)"
   ]
  },
  {
   "cell_type": "code",
   "execution_count": 36,
   "id": "ef04f847-6790-4b85-bc20-b44bb1f0d6d9",
   "metadata": {},
   "outputs": [
    {
     "data": {
      "text/plain": [
       "True"
      ]
     },
     "execution_count": 36,
     "metadata": {},
     "output_type": "execute_result"
    }
   ],
   "source": [
    "w1 is _w1"
   ]
  },
  {
   "cell_type": "code",
   "execution_count": 40,
   "id": "e2457843-f728-42cc-ad37-14b8db71bba5",
   "metadata": {},
   "outputs": [],
   "source": [
    "del w1"
   ]
  },
  {
   "cell_type": "code",
   "execution_count": 42,
   "id": "3fa33f52-e369-4b9c-bb07-b5039208c895",
   "metadata": {},
   "outputs": [
    {
     "name": "stdout",
     "output_type": "stream",
     "text": [
      "WRComplexObject(_id=1) deleted\n"
     ]
    }
   ],
   "source": [
    "del _w1"
   ]
  },
  {
   "cell_type": "code",
   "execution_count": 44,
   "id": "515a711c-e56c-4491-b89f-a8627677c548",
   "metadata": {},
   "outputs": [
    {
     "data": {
      "text/plain": [
       "{1: <weakref at 0x00000239E5445260; dead>}"
      ]
     },
     "execution_count": 44,
     "metadata": {},
     "output_type": "execute_result"
    }
   ],
   "source": [
    "WRComplexObject._cache"
   ]
  },
  {
   "cell_type": "raw",
   "id": "38489afa-2d68-4a26-a304-a367a2f86075",
   "metadata": {},
   "source": [
    "We could clear the cache by modifying the __del__ method"
   ]
  },
  {
   "cell_type": "markdown",
   "id": "5b61f375-70c9-48d0-a2b9-b20e4ecf6458",
   "metadata": {},
   "source": [
    "Now we see, that when deleting all references to object the cache is cleared. This avoid storing unused object in the memory space."
   ]
  }
 ],
 "metadata": {
  "kernelspec": {
   "display_name": "Python 3 (ipykernel)",
   "language": "python",
   "name": "python3"
  },
  "language_info": {
   "codemirror_mode": {
    "name": "ipython",
    "version": 3
   },
   "file_extension": ".py",
   "mimetype": "text/x-python",
   "name": "python",
   "nbconvert_exporter": "python",
   "pygments_lexer": "ipython3",
   "version": "3.12.7"
  }
 },
 "nbformat": 4,
 "nbformat_minor": 5
}
